{
  "cells": [
    {
      "cell_type": "markdown",
      "source": [
        "Original Code\n"
      ],
      "metadata": {
        "id": "V59lbQnqYFhy"
      },
      "id": "V59lbQnqYFhy"
    },
    {
      "cell_type": "code",
      "execution_count": 51,
      "id": "1de99273",
      "metadata": {
        "id": "1de99273"
      },
      "outputs": [],
      "source": [
        "# Please note that the parameters below have to be adjusted for specific datasets\n",
        "\n",
        "from functions import *"
      ]
    },
    {
      "cell_type": "code",
      "execution_count": 52,
      "id": "3d7aa3a7",
      "metadata": {
        "id": "3d7aa3a7"
      },
      "outputs": [],
      "source": [
        "dataset = \"MNIST\" # either \"CIFAR\" or \"MNIST\" or \"UCIHAR\" or \"ISOLET\"\n",
        "max_length = 1000 # Dataset will be shortened to max_length if too large\n",
        "\n",
        "attempt_using_GPU = True # If GPU is available, it will be used\n",
        "\n",
        "simple_NN = False # If True, only a very small NN with one hidden layer will be used\n",
        "                    # Otherwise, a CNN will be used. For CIFAR, a CNN is needed\n",
        "\n",
        "load_tensor_Hamiltonians = True # All available gates will be loaded as (potentially large) tensors\n",
        "                                # Depending on your hardware, this becomes problematic at n=8+ qubits\n",
        "\n",
        "calculate_density_matrices = False # calculate the full 2**n by 2**n density matrices for getting\n",
        "                                  # the trace distance (True) or just use 2**n size states (False)\n",
        "\n",
        "save_data = False # saves loss and gradient to .csv file\n",
        "\n",
        "load_symbolic_hamiltonians = True # Load available hamiltonians as list of symbolic strings (instead of matrices)\n",
        "\n",
        "use_symbolic_operations = True # If true, this code will use symbolic operations\n",
        "                                # see functions ending with _symbolic\n",
        "if attempt_using_GPU:\n",
        "    device = torch.device('cuda' if torch.cuda.is_available() else 'cpu')"
      ]
    },
    {
      "cell_type": "code",
      "execution_count": 53,
      "id": "732a31af",
      "metadata": {
        "colab": {
          "base_uri": "https://localhost:8080/"
        },
        "id": "732a31af",
        "outputId": "fae5d5ed-4720-47c2-f50f-fd1104e10181"
      },
      "outputs": [
        {
          "output_type": "stream",
          "name": "stdout",
          "text": [
            "Using CPU!\n"
          ]
        }
      ],
      "source": [
        "system_check(device, use_symbolic_operations, load_symbolic_hamiltonians, load_tensor_Hamiltonians)"
      ]
    },
    {
      "cell_type": "code",
      "execution_count": 54,
      "id": "0e3111bb",
      "metadata": {
        "id": "0e3111bb"
      },
      "outputs": [],
      "source": [
        "## Definitions of basic quantum operators, states, and constants\n",
        "I, X, Y, Z = get_pauli_matrices(device)\n",
        "zero, one = get_quantum_states(device)\n",
        "h_bar = 1"
      ]
    },
    {
      "cell_type": "code",
      "execution_count": 55,
      "id": "8859447c",
      "metadata": {
        "id": "8859447c"
      },
      "outputs": [],
      "source": [
        "n = 2 # number of qubits\n",
        "m = n + n + n*(n-1)//2 # number of hamiltonians that will be needed for the system\n",
        "                       # one X control for every qubit, one Z control for every qubit\n",
        "                       # 2 pairwise Z controls for every 2 qubits (n choose 2)\n",
        "\n",
        "shape = (m, 2**n, 2**n) # Shape of the tensor containing all the hamiltonians\n",
        "T = 1 # Time during which hamiltonians are applied\n",
        "steps = 5  # Number of discrete values of the activation functions for each hamiltonian\n",
        "trotter_number = 2 # This is the variable TN is my notes\n",
        "\n",
        "K = 10 # Number of classes – must be between 2 and the total number of classes given in the dataset"
      ]
    },
    {
      "cell_type": "code",
      "execution_count": 56,
      "id": "4c1f2b92",
      "metadata": {
        "colab": {
          "base_uri": "https://localhost:8080/"
        },
        "id": "4c1f2b92",
        "outputId": "f5a29a98-7011-47ac-a156-b51c617c46e9"
      },
      "outputs": [
        {
          "output_type": "stream",
          "name": "stdout",
          "text": [
            "Generated the following list of symbolic Hamiltonians:\n",
            " [['X', 'I'], ['I', 'X'], ['Z', 'I'], ['I', 'Z'], ['Z', 'Z']] \n",
            "\n",
            "Generated Hamiltonian with X at qubit 0 in tensor form\n",
            "Generated Hamiltonian with Z at qubit 0 in tensor form\n",
            "Generated Hamiltonian with X at qubit 1 in tensor form\n",
            "Generated Hamiltonian with Z at qubit 1 in tensor form\n",
            "Generated Hamiltonian with ZZ at qubits 0 and 1 in tensor form\n"
          ]
        }
      ],
      "source": [
        "if load_symbolic_hamiltonians:\n",
        "    Hamiltonians_symbolic = generate_list_of_hamiltonians_symbolic_form(n)\n",
        "\n",
        "if load_tensor_Hamiltonians:\n",
        "    Hamiltonians = generate_list_of_hamiltonians_matrix_form(n, shape, I, X, Z, device)"
      ]
    },
    {
      "cell_type": "code",
      "execution_count": 57,
      "id": "f5a7f76f",
      "metadata": {
        "id": "f5a7f76f"
      },
      "outputs": [],
      "source": [
        "# See class 'embedder' for details\n",
        "embedding = embedder(n, Hamiltonians, m, T, steps, trotter_number)"
      ]
    },
    {
      "cell_type": "code",
      "execution_count": 58,
      "id": "5b7716b9",
      "metadata": {
        "colab": {
          "base_uri": "https://localhost:8080/"
        },
        "id": "5b7716b9",
        "outputId": "adc77f21-e475-4abd-ab17-25b0d31c7af1"
      },
      "outputs": [
        {
          "output_type": "stream",
          "name": "stdout",
          "text": [
            "The following classes are added to the dataset:\n",
            " ['0', '1', '2', '3', '4', '5', '6', '7', '8', '9']\n"
          ]
        }
      ],
      "source": [
        "classes_accepted = [str(x) for x in range(K)]\n",
        "print(\"The following classes are added to the dataset:\\n\", classes_accepted)"
      ]
    },
    {
      "cell_type": "code",
      "execution_count": 59,
      "id": "398017a7",
      "metadata": {
        "colab": {
          "base_uri": "https://localhost:8080/"
        },
        "id": "398017a7",
        "outputId": "a2258313-7420-4942-b3ce-c547dbbe7eb1"
      },
      "outputs": [
        {
          "output_type": "stream",
          "name": "stdout",
          "text": [
            "Loading MNIST dataset\n",
            "Normalizing MNIST dataset\n",
            "Done!\n"
          ]
        }
      ],
      "source": [
        "X_train, Y_train, X_test, Y_test, nn_input_dimensions = load_and_preprocess_data(dataset, device, classes_accepted, max_length)"
      ]
    },
    {
      "cell_type": "code",
      "execution_count": 60,
      "id": "b5751fe6",
      "metadata": {
        "colab": {
          "base_uri": "https://localhost:8080/"
        },
        "id": "b5751fe6",
        "outputId": "dc8cbde5-0351-4faf-82d0-1ff22e159522"
      },
      "outputs": [
        {
          "output_type": "stream",
          "name": "stdout",
          "text": [
            "Y_train\n",
            "0 occurs 97 times\n",
            "1 occurs 116 times\n",
            "2 occurs 99 times\n",
            "3 occurs 93 times\n",
            "4 occurs 105 times\n",
            "5 occurs 92 times\n",
            "6 occurs 94 times\n",
            "7 occurs 117 times\n",
            "8 occurs 87 times\n",
            "9 occurs 100 times\n"
          ]
        }
      ],
      "source": [
        "print(\"Y_train\")\n",
        "for i in range(max(Y_train)+1):\n",
        "    if Y_train.count(i) > 0:\n",
        "        print(i,\"occurs\",Y_train.count(i),\"times\")"
      ]
    },
    {
      "cell_type": "code",
      "execution_count": 61,
      "id": "fd224aa3",
      "metadata": {
        "colab": {
          "base_uri": "https://localhost:8080/"
        },
        "id": "fd224aa3",
        "outputId": "8357b0eb-62b6-4a87-9873-3421fe3e405f"
      },
      "outputs": [
        {
          "output_type": "stream",
          "name": "stdout",
          "text": [
            "Y_test\n",
            "0 occurs 85 times\n",
            "1 occurs 126 times\n",
            "2 occurs 116 times\n",
            "3 occurs 107 times\n",
            "4 occurs 110 times\n",
            "5 occurs 87 times\n",
            "6 occurs 87 times\n",
            "7 occurs 99 times\n",
            "8 occurs 89 times\n",
            "9 occurs 94 times\n"
          ]
        }
      ],
      "source": [
        "print(\"Y_test\")\n",
        "for i in range(max(Y_test)+1):\n",
        "    if Y_test.count(i) > 0:\n",
        "        print(i,\"occurs\",Y_test.count(i),\"times\")"
      ]
    },
    {
      "cell_type": "code",
      "execution_count": 62,
      "id": "693b3aef",
      "metadata": {
        "colab": {
          "base_uri": "https://localhost:8080/"
        },
        "id": "693b3aef",
        "outputId": "6d426c4e-8084-4fce-faca-d21bafcdc6e0"
      },
      "outputs": [
        {
          "output_type": "stream",
          "name": "stdout",
          "text": [
            "There are 10 classes in total in the MNIST dataset.\n"
          ]
        }
      ],
      "source": [
        "if K != len(set(Y_test)): # Number of distinct classes\n",
        "    print(\"There seems to be an error here!\")\n",
        "print(\"There are\", K, \"classes in total in the\", dataset, \"dataset.\")\n",
        "\n",
        "if K != max(Y_test)+1:\n",
        "    print(\"Warning! classes in the dataset don't seem to be labeled from 0 to K\")"
      ]
    },
    {
      "cell_type": "markdown",
      "id": "cd61abc3",
      "metadata": {
        "id": "cd61abc3"
      },
      "source": [
        " Defining the Neural Network"
      ]
    },
    {
      "cell_type": "code",
      "execution_count": 63,
      "id": "f46a5950",
      "metadata": {
        "colab": {
          "base_uri": "https://localhost:8080/"
        },
        "id": "f46a5950",
        "outputId": "f395e1e3-8e01-433f-9a91-3036e718efba"
      },
      "outputs": [
        {
          "output_type": "stream",
          "name": "stdout",
          "text": [
            "Classical NN:\n",
            "\n",
            " Classical_Net_conv(\n",
            "  (conv1): Conv2d(1, 6, kernel_size=(5, 5), stride=(1, 1))\n",
            "  (pool): MaxPool2d(kernel_size=2, stride=2, padding=0, dilation=1, ceil_mode=False)\n",
            "  (conv2): Conv2d(6, 16, kernel_size=(5, 5), stride=(1, 1))\n",
            "  (fc1): Linear(in_features=256, out_features=120, bias=True)\n",
            "  (fc2): Linear(in_features=120, out_features=84, bias=True)\n",
            "  (fc3): Linear(in_features=84, out_features=10, bias=True)\n",
            ")\n"
          ]
        }
      ],
      "source": [
        "if simple_NN:\n",
        "    classical_net = Classical_Net_simple(nn_input_dimensions, dataset, K).to(device)\n",
        "else:\n",
        "    classical_net = Classical_Net_conv(nn_input_dimensions, dataset, K).to(device)\n",
        "\n",
        "print(\"Classical NN:\\n\\n\",classical_net)"
      ]
    },
    {
      "cell_type": "code",
      "execution_count": 64,
      "id": "f0f01f36",
      "metadata": {
        "colab": {
          "base_uri": "https://localhost:8080/"
        },
        "id": "f0f01f36",
        "outputId": "6ac5d89c-a42f-4342-fcb8-4a2ccba77e78"
      },
      "outputs": [
        {
          "output_type": "stream",
          "name": "stdout",
          "text": [
            "+--------------+------------+\n",
            "|   Modules    | Parameters |\n",
            "+--------------+------------+\n",
            "| conv1.weight |    150     |\n",
            "|  conv1.bias  |     6      |\n",
            "| conv2.weight |    2400    |\n",
            "|  conv2.bias  |     16     |\n",
            "|  fc1.weight  |   30720    |\n",
            "|   fc1.bias   |    120     |\n",
            "|  fc2.weight  |   10080    |\n",
            "|   fc2.bias   |     84     |\n",
            "|  fc3.weight  |    840     |\n",
            "|   fc3.bias   |     10     |\n",
            "+--------------+------------+\n",
            "Total Trainable Params: 44426\n"
          ]
        },
        {
          "output_type": "execute_result",
          "data": {
            "text/plain": [
              "44426"
            ]
          },
          "metadata": {},
          "execution_count": 64
        }
      ],
      "source": [
        "count_parameters(classical_net)"
      ]
    },
    {
      "cell_type": "code",
      "execution_count": 65,
      "id": "0a93159d",
      "metadata": {
        "colab": {
          "base_uri": "https://localhost:8080/"
        },
        "id": "0a93159d",
        "outputId": "fb29e3f8-6427-400d-ee2c-6e283780ca7d"
      },
      "outputs": [
        {
          "output_type": "stream",
          "name": "stdout",
          "text": [
            "Training accuracy before classical NN training =  11.6 %\n"
          ]
        }
      ],
      "source": [
        "corrects = 0\n",
        "predictions = classical_classify(X_train, classical_net)\n",
        "\n",
        "for i in range(len(Y_train)):\n",
        "    if predictions[i] == Y_train[i]:\n",
        "        corrects += 1\n",
        "\n",
        "print(\"Training accuracy before classical NN training = \", 100*corrects/len(Y_train),\"%\")"
      ]
    },
    {
      "cell_type": "code",
      "execution_count": 66,
      "id": "a4632fe2",
      "metadata": {
        "colab": {
          "base_uri": "https://localhost:8080/"
        },
        "id": "a4632fe2",
        "outputId": "011bb81a-064d-433d-b75d-9e599ce95c09"
      },
      "outputs": [
        {
          "output_type": "stream",
          "name": "stdout",
          "text": [
            "Test accuracy before classical NN training =  12.6 %\n"
          ]
        }
      ],
      "source": [
        "corrects = 0\n",
        "predictions = classical_classify(X_test, classical_net)\n",
        "\n",
        "for i in range(len(Y_test)):\n",
        "    if predictions[i] == Y_test[i]:\n",
        "        corrects += 1\n",
        "\n",
        "print(\"Test accuracy before classical NN training = \", 100*corrects/len(Y_test),\"%\")"
      ]
    },
    {
      "cell_type": "code",
      "execution_count": 67,
      "id": "06961a54",
      "metadata": {
        "id": "06961a54"
      },
      "outputs": [],
      "source": [
        "optimizer = optim.SGD(classical_net.parameters(), lr=0.01, weight_decay=1e-1) #MNIST\n",
        "criterion = nn.CrossEntropyLoss()\n",
        "loss_history = []\n",
        "batch_size = len(X_train)\n",
        "all_labels = torch.zeros((len(Y_train),K))\n",
        "for i in range(len(Y_train)):\n",
        "    all_labels[i,Y_train[i]] = 1"
      ]
    },
    {
      "cell_type": "code",
      "execution_count": 68,
      "id": "96bfb7dd",
      "metadata": {
        "colab": {
          "base_uri": "https://localhost:8080/"
        },
        "id": "96bfb7dd",
        "outputId": "7ed2fd7a-18fd-4002-86b7-42b564bcd29f"
      },
      "outputs": [
        {
          "output_type": "stream",
          "name": "stdout",
          "text": [
            "Finished Training\n"
          ]
        }
      ],
      "source": [
        "max_epochs = 1000\n",
        "for epoch in range(max_epochs): # loop over the dataset multiple times\n",
        "\n",
        "    random_indices = random.sample(range(len(X_train)), batch_size)\n",
        "\n",
        "    output = classical_net(X_train[random_indices])\n",
        "    labels = all_labels[random_indices].type(torch.FloatTensor).to(device)\n",
        "\n",
        "    # zero the parameter gradients\n",
        "    optimizer.zero_grad()\n",
        "\n",
        "    # forward + backward + optimize\n",
        "    loss = criterion(output,labels)\n",
        "\n",
        "    loss.backward()\n",
        "    optimizer.step()\n",
        "\n",
        "    loss_history.append(loss.detach().to(device='cpu'))\n",
        "\n",
        "print('Finished Training')"
      ]
    },
    {
      "cell_type": "code",
      "execution_count": 69,
      "id": "411854b9",
      "metadata": {
        "colab": {
          "base_uri": "https://localhost:8080/",
          "height": 452
        },
        "id": "411854b9",
        "outputId": "1591a808-aff9-41ed-bdf5-89d19282563a"
      },
      "outputs": [
        {
          "output_type": "display_data",
          "data": {
            "text/plain": [
              "<Figure size 640x480 with 1 Axes>"
            ],
            "image/png": "[encoded data removed]"
          },
          "metadata": {}
        }
      ],
      "source": [
        "from matplotlib import pyplot as plt\n",
        "plt.plot(loss_history, label = \"Loss function\")\n",
        "plt.ylabel(\"Training loss\")\n",
        "plt.xlabel(\"Iteration\")\n",
        "plt.legend()\n",
        "plt.show()"
      ]
    },
    {
      "cell_type": "code",
      "execution_count": 72,
      "id": "0fc350f9",
      "metadata": {
        "colab": {
          "base_uri": "https://localhost:8080/"
        },
        "id": "0fc350f9",
        "outputId": "9d46c5e8-a91d-4712-e772-bf647bf97ea6"
      },
      "outputs": [
        {
          "output_type": "stream",
          "name": "stdout",
          "text": [
            "Training accuracy after classical NN training =  86.20689655172414 %\n"
          ]
        }
      ],
      "source": [
        "corrects = 0\n",
        "predictions = classical_classify(X_train, classical_net)\n",
        "\n",
        "for i in range(len(Y_train)):\n",
        "    if predictions[i] == Y_train[i]:\n",
        "        corrects += 1\n",
        "accuracy=10*len (Y_train)/corrects\n",
        "print(\"Training accuracy after classical NN training = \",accuracy ,\"%\")"
      ]
    },
    {
      "cell_type": "code",
      "execution_count": 77,
      "id": "0bd85db2",
      "metadata": {
        "scrolled": true,
        "colab": {
          "base_uri": "https://localhost:8080/"
        },
        "id": "0bd85db2",
        "outputId": "99fec447-f3a4-4703-8295-066c5073f8cb"
      },
      "outputs": [
        {
          "output_type": "stream",
          "name": "stdout",
          "text": [
            "Test accuracy after classical NN training =  79.36507936507937 %\n"
          ]
        }
      ],
      "source": [
        "corrects = 0\n",
        "predictions = classical_classify(X_test, classical_net)\n",
        "\n",
        "for i in range(len(Y_test)):\n",
        "    if predictions[i] == Y_test[i]:\n",
        "        corrects += 1\n",
        "accuracy=10*len (Y_train)/corrects\n",
        "print(\"Test accuracy after classical NN training = \",accuracy ,\"%\")"
      ]
    },
    {
      "cell_type": "code",
      "execution_count": 78,
      "id": "29a17847",
      "metadata": {
        "colab": {
          "base_uri": "https://localhost:8080/"
        },
        "id": "29a17847",
        "outputId": "8d023ef2-a393-4abe-8098-d81b24d20334"
      },
      "outputs": [
        {
          "output_type": "stream",
          "name": "stdout",
          "text": [
            "set to 1\n",
            "Quantum NN:\n",
            "\n",
            " Hybrid_Net_conv(\n",
            "  (conv1): Conv2d(1, 6, kernel_size=(5, 5), stride=(1, 1))\n",
            "  (pool): MaxPool2d(kernel_size=2, stride=2, padding=0, dilation=1, ceil_mode=False)\n",
            "  (conv2): Conv2d(6, 16, kernel_size=(5, 5), stride=(1, 1))\n",
            "  (fc1): Linear(in_features=256, out_features=120, bias=True)\n",
            "  (fc2): Linear(in_features=120, out_features=84, bias=True)\n",
            "  (fc3): Linear(in_features=84, out_features=25, bias=True)\n",
            ")\n"
          ]
        }
      ],
      "source": [
        "hidden_layer_size = 120\n",
        "if simple_NN:\n",
        "    net = Hybrid_Net_simple(nn_input_dimensions, m, steps, hidden_layer_size, dataset).to(device)\n",
        "else:\n",
        "    net = Hybrid_Net_conv(nn_input_dimensions, m, steps, hidden_layer_size, dataset).to(device)\n",
        "\n",
        "print(\"Quantum NN:\\n\\n\",net)"
      ]
    },
    {
      "cell_type": "code",
      "execution_count": 79,
      "id": "3a5268ad",
      "metadata": {
        "colab": {
          "base_uri": "https://localhost:8080/"
        },
        "id": "3a5268ad",
        "outputId": "b9d78ea3-18bb-4181-aabc-9c68e3cab614"
      },
      "outputs": [
        {
          "output_type": "execute_result",
          "data": {
            "text/plain": [
              "tensor([[ 7.7094,  4.8359, -6.2915,  ..., -3.2417, -2.5229, -8.4445],\n",
              "        [ 7.7055,  4.8163, -6.2884,  ..., -3.2474, -2.5257, -8.4327],\n",
              "        [ 7.7010,  4.8178, -6.3088,  ..., -3.2619, -2.5101, -8.4604],\n",
              "        ...,\n",
              "        [ 7.6952,  4.8235, -6.2926,  ..., -3.2606, -2.5285, -8.4333],\n",
              "        [ 7.7022,  4.8067, -6.2809,  ..., -3.2506, -2.5268, -8.4269],\n",
              "        [ 7.6907,  4.8278, -6.2929,  ..., -3.2618, -2.5338, -8.4325]],\n",
              "       grad_fn=<MulBackward0>)"
            ]
          },
          "metadata": {},
          "execution_count": 79
        }
      ],
      "source": [
        "nn_output = net(X_train)\n",
        "nn_output"
      ]
    },
    {
      "cell_type": "code",
      "execution_count": 80,
      "id": "825662a3",
      "metadata": {
        "colab": {
          "base_uri": "https://localhost:8080/"
        },
        "id": "825662a3",
        "outputId": "e6b91b4c-6b2f-43ad-904e-0b2e3a8326ca"
      },
      "outputs": [
        {
          "output_type": "execute_result",
          "data": {
            "text/plain": [
              "torch.Size([1000, 5, 5])"
            ]
          },
          "metadata": {},
          "execution_count": 80
        }
      ],
      "source": [
        "activation_functions = torch.reshape(nn_output.type(torch.complex64),(len(nn_output),m,steps))\n",
        "activation_functions.shape"
      ]
    },
    {
      "cell_type": "code",
      "execution_count": 81,
      "id": "c5f4bcaa",
      "metadata": {
        "colab": {
          "base_uri": "https://localhost:8080/"
        },
        "id": "c5f4bcaa",
        "outputId": "989e3587-1fb8-4886-e769-da00ee921c0e"
      },
      "outputs": [
        {
          "output_type": "execute_result",
          "data": {
            "text/plain": [
              "tensor(-8.1062e-06, grad_fn=<MaxBackward1>)"
            ]
          },
          "metadata": {},
          "execution_count": 81
        }
      ],
      "source": [
        "test_loss, classes_density_matrices_or_states, _ = nn_loss(X_train, Y_train, net, m, n, steps, K, T, save_data, calculate_density_matrices, use_symbolic_operations, embedding, Hamiltonians, Hamiltonians_symbolic, h_bar, device, trotter_number)\n",
        "test_loss"
      ]
    },
    {
      "cell_type": "code",
      "execution_count": 82,
      "id": "4cc4937c",
      "metadata": {
        "colab": {
          "base_uri": "https://localhost:8080/"
        },
        "id": "4cc4937c",
        "outputId": "6750bab0-a2ad-4573-be60-0383a398d4a0"
      },
      "outputs": [
        {
          "output_type": "stream",
          "name": "stdout",
          "text": [
            "Training accuracy before hybrid NN training =  31.5 %\n"
          ]
        }
      ],
      "source": [
        "correct_predictions = sum([classify_multiclass(X_train[i], net, classes_density_matrices_or_states, calculate_density_matrices, T, m, n, steps, trotter_number, device, Hamiltonians_symbolic, use_symbolic_operations, embedding, K) == Y_train[i] for i in range(len(Y_train))])\n",
        "accuracy = (correct_predictions / len(Y_train)) * 100\n",
        "print(\"Training accuracy before hybrid NN training = \", accuracy, \"%\")"
      ]
    },
    {
      "cell_type": "code",
      "execution_count": 83,
      "id": "7b29237f",
      "metadata": {
        "colab": {
          "base_uri": "https://localhost:8080/"
        },
        "id": "7b29237f",
        "outputId": "446c9b5f-377f-4f38-c483-399ce185c49a"
      },
      "outputs": [
        {
          "output_type": "stream",
          "name": "stdout",
          "text": [
            "Test accuracy before hybrid NN training =  32.1 %\n"
          ]
        }
      ],
      "source": [
        "correct_predictions = sum([classify_multiclass(X_test[i], net, classes_density_matrices_or_states, calculate_density_matrices, T, m, n, steps, trotter_number, device, Hamiltonians_symbolic, use_symbolic_operations, embedding, K) == Y_test[i] for i in range(len(Y_test))])\n",
        "accuracy = (correct_predictions / len(Y_test)) * 100\n",
        "print(\"Test accuracy before hybrid NN training = \", accuracy, \"%\")"
      ]
    },
    {
      "cell_type": "code",
      "execution_count": 84,
      "id": "f05757b7",
      "metadata": {
        "id": "f05757b7"
      },
      "outputs": [],
      "source": [
        "if simple_NN:\n",
        "    net.fc1.weight = copy.deepcopy(classical_net.fc1.weight)\n",
        "    net.fc1.bias = copy.deepcopy(classical_net.fc1.bias)\n",
        "else:\n",
        "    net.conv1.weight = copy.deepcopy(classical_net.conv1.weight)\n",
        "    net.conv1.bias = copy.deepcopy(classical_net.conv1.bias)\n",
        "\n",
        "    net.pool = copy.deepcopy(classical_net.pool)\n",
        "\n",
        "    net.conv2.weight = copy.deepcopy(classical_net.conv2.weight)\n",
        "    net.conv2.bias = copy.deepcopy(classical_net.conv2.bias)\n",
        "\n",
        "    net.fc1.weight = copy.deepcopy(classical_net.fc1.weight)\n",
        "    net.fc1.bias = copy.deepcopy(classical_net.fc1.bias)\n",
        "\n",
        "    net.fc2.weight = copy.deepcopy(classical_net.fc2.weight)\n",
        "    net.fc2.bias = copy.deepcopy(classical_net.fc2.bias)\n"
      ]
    },
    {
      "cell_type": "code",
      "execution_count": 85,
      "id": "fa0917be",
      "metadata": {
        "colab": {
          "base_uri": "https://localhost:8080/"
        },
        "id": "fa0917be",
        "outputId": "a9d15ebc-9184-44b4-98b7-e815a621562f"
      },
      "outputs": [
        {
          "output_type": "execute_result",
          "data": {
            "text/plain": [
              "tensor(2.3842e-07, grad_fn=<MaxBackward1>)"
            ]
          },
          "metadata": {},
          "execution_count": 85
        }
      ],
      "source": [
        "test_loss, classes_density_matrices_or_states, _ = nn_loss(X_train, Y_train, net, m, n, steps, K, T, save_data, calculate_density_matrices, use_symbolic_operations, embedding, Hamiltonians, Hamiltonians_symbolic, h_bar, device, trotter_number)\n",
        "test_loss"
      ]
    },
    {
      "cell_type": "code",
      "execution_count": 86,
      "id": "ec909988",
      "metadata": {
        "colab": {
          "base_uri": "https://localhost:8080/"
        },
        "id": "ec909988",
        "outputId": "9cc237aa-fc99-4172-b53a-8d0461bda202"
      },
      "outputs": [
        {
          "output_type": "stream",
          "name": "stdout",
          "text": [
            "Training accuracy of hybrid NN using classical pre-training =  93.0 %\n"
          ]
        }
      ],
      "source": [
        "corrects = 0\n",
        "counter = 0\n",
        "for i in range(len(Y_train)):\n",
        "    counter += 1\n",
        "    if classify_multiclass(X_train[i], net, classes_density_matrices_or_states, calculate_density_matrices, T, m, n, steps, trotter_number, device, Hamiltonians_symbolic, use_symbolic_operations, embedding, K) == Y_train[i]:\n",
        "        corrects += 1\n",
        "accuracy=10*corrects/counter\n",
        "print(\"Training accuracy of hybrid NN using classical pre-training = \", 100*accuracy,\"%\")\n"
      ]
    },
    {
      "cell_type": "code",
      "execution_count": 90,
      "id": "d07d7cf3",
      "metadata": {
        "colab": {
          "base_uri": "https://localhost:8080/"
        },
        "id": "d07d7cf3",
        "outputId": "be1d6921-668f-467a-dbaa-fa2303e96fba"
      },
      "outputs": [
        {
          "output_type": "stream",
          "name": "stdout",
          "text": [
            "Test accuracy of hybrid NN using classical pre-training=  80.0 %\n"
          ]
        }
      ],
      "source": [
        "corrects = 0\n",
        "counter = 0\n",
        "for i in range(len(Y_test)):\n",
        "    counter += 1\n",
        "    if classify_multiclass(X_test[i], net, classes_density_matrices_or_states, calculate_density_matrices, T, m, n, steps, trotter_number, device, Hamiltonians_symbolic, use_symbolic_operations, embedding, K) == Y_test[i]:\n",
        "        corrects += 1\n",
        "accuracy=10*counter/corrects\n",
        "print(\"Test accuracy of hybrid NN using classical pre-training= \", accuracy,\"%\")"
      ]
    },
    {
      "cell_type": "code",
      "execution_count": 91,
      "id": "a9b3a046",
      "metadata": {
        "id": "a9b3a046"
      },
      "outputs": [],
      "source": [
        "loss_history = []\n",
        "grad_history = []"
      ]
    },
    {
      "cell_type": "code",
      "execution_count": 92,
      "id": "13d05cde",
      "metadata": {
        "colab": {
          "base_uri": "https://localhost:8080/"
        },
        "id": "13d05cde",
        "outputId": "f437404d-97fd-4bc3-db0e-8f728aafecf8"
      },
      "outputs": [
        {
          "output_type": "stream",
          "name": "stdout",
          "text": [
            "Time to calculate optimizer.zero_grad() function = 0.0004265308380126953\n",
            "Time to run nn_loss() function = 4.199101209640503\n",
            "Time to calculate loss.backward function = 5.562244653701782\n",
            "Time to calculate optimizer.step()  = 0.0007848739624023438\n",
            "[ 0] loss: 0.000000238\n",
            "Time to calculate optimizer.zero_grad() function = 0.0004086494445800781\n",
            "Time to run nn_loss() function = 3.4671409130096436\n",
            "Time to calculate loss.backward function = 5.116314888000488\n",
            "Time to calculate optimizer.step()  = 0.009907722473144531\n",
            "[ 1] loss: 0.000000477\n",
            "Time to calculate optimizer.zero_grad() function = 0.0005033016204833984\n",
            "Time to run nn_loss() function = 4.641298770904541\n",
            "Time to calculate loss.backward function = 5.142828702926636\n",
            "Time to calculate optimizer.step()  = 0.013747930526733398\n",
            "[ 2] loss: 0.000000238\n",
            "Time to calculate optimizer.zero_grad() function = 0.0007503032684326172\n",
            "Time to run nn_loss() function = 3.274000883102417\n",
            "Time to calculate loss.backward function = 6.908147811889648\n",
            "Time to calculate optimizer.step()  = 0.012346982955932617\n",
            "[ 3] loss: 0.000000238\n",
            "Time to calculate optimizer.zero_grad() function = 0.0005402565002441406\n",
            "Time to run nn_loss() function = 3.5448691844940186\n",
            "Time to calculate loss.backward function = 5.330373287200928\n",
            "Time to calculate optimizer.step()  = 0.01708507537841797\n",
            "[ 4] loss: 0.000000238\n",
            "Time to calculate optimizer.zero_grad() function = 0.0006780624389648438\n",
            "Time to run nn_loss() function = 4.529237270355225\n",
            "Time to calculate loss.backward function = 5.358911991119385\n",
            "Time to calculate optimizer.step()  = 0.016869544982910156\n",
            "[ 5] loss: 0.000000238\n",
            "Time to calculate optimizer.zero_grad() function = 0.00044465065002441406\n",
            "Time to run nn_loss() function = 3.556082248687744\n",
            "Time to calculate loss.backward function = 6.835662126541138\n",
            "Time to calculate optimizer.step()  = 0.017290592193603516\n",
            "[ 6] loss: 0.000000477\n",
            "Time to calculate optimizer.zero_grad() function = 0.0005786418914794922\n",
            "Time to run nn_loss() function = 3.2759852409362793\n",
            "Time to calculate loss.backward function = 5.409456253051758\n",
            "Time to calculate optimizer.step()  = 0.018754005432128906\n",
            "[ 7] loss: 0.000000119\n",
            "Time to calculate optimizer.zero_grad() function = 0.0004980564117431641\n",
            "Time to run nn_loss() function = 4.577674865722656\n",
            "Time to calculate loss.backward function = 5.366586685180664\n",
            "Time to calculate optimizer.step()  = 0.012464046478271484\n",
            "[ 8] loss: 0.000000238\n",
            "Time to calculate optimizer.zero_grad() function = 0.0006849765777587891\n",
            "Time to run nn_loss() function = 3.565817356109619\n",
            "Time to calculate loss.backward function = 6.752897500991821\n",
            "Time to calculate optimizer.step()  = 0.013226509094238281\n",
            "[ 9] loss: 0.000000238\n",
            "Finished Training\n"
          ]
        }
      ],
      "source": [
        "lr=0.00001\n",
        "optimizer = optim.SGD(net.parameters(), lr=lr, weight_decay=1e-3)\n",
        "batch_size = len(X_train)\n",
        "for epoch in range(10): # loop over the dataset multiple times\n",
        "\n",
        "    # torch.autograd.set_detect_anomaly(True) # Only needed for debugging, not sure if it slows down the code\n",
        "\n",
        "    random_indices = random.sample(range(len(X_train)), batch_size)\n",
        "    inputs = X_train[random_indices]\n",
        "    labels = [Y_train[t] for t in random_indices]\n",
        "\n",
        "    # zero the parameter gradients\n",
        "    start_time = time.time()\n",
        "    optimizer.zero_grad()\n",
        "    end_time = time.time()\n",
        "    print(\"Time to calculate optimizer.zero_grad() function =\", end_time-start_time)\n",
        "\n",
        "    # forward + backward + optimize\n",
        "    start_time = time.time()\n",
        "    loss, _ , activation_functions = nn_loss(inputs, labels, net, m, n, steps, K, T, save_data, calculate_density_matrices, use_symbolic_operations, embedding, Hamiltonians, Hamiltonians_symbolic, h_bar, device, trotter_number)\n",
        "    end_time = time.time()\n",
        "    print(\"Time to run nn_loss() function =\", end_time-start_time)\n",
        "\n",
        "    start_time = time.time()\n",
        "    loss.backward()\n",
        "    end_time = time.time()\n",
        "    print(\"Time to calculate loss.backward function =\", end_time-start_time)\n",
        "\n",
        "    start_time = time.time()\n",
        "    optimizer.step()\n",
        "    end_time = time.time()\n",
        "    print(\"Time to calculate optimizer.step()  =\", end_time-start_time)\n",
        "\n",
        "    # Storing the gradient\n",
        "    if save_data:\n",
        "        grad_temp_sum = torch.mean(torch.abs(activation_functions.grad))\n",
        "\n",
        "    # print statistics\n",
        "    if save_data:\n",
        "        print('[%2d] loss: %.9f grad: %.9f' %(epoch, loss, grad_temp_sum))\n",
        "        grad_history.append(grad_temp_sum)\n",
        "    else:\n",
        "        print('[%2d] loss: %.9f' %(epoch, loss))\n",
        "\n",
        "    loss_history.append(loss.item())\n",
        "\n",
        "print('Finished Training')"
      ]
    },
    {
      "cell_type": "code",
      "execution_count": 94,
      "id": "f9d5a74a",
      "metadata": {
        "id": "f9d5a74a"
      },
      "outputs": [],
      "source": [
        "if save_data:\n",
        "    file_name = \"n=\"+str(n)+\" lr=\"+str(lr)+\" loss and grad.csv\"\n",
        "    textfile = open(file_name, \"a\")\n",
        "    for i in range(len(loss_history)):\n",
        "        textfile.write(str(i) + \",\" + '%.8f,%.8f\\n'%(loss_history[i], grad_history[i]))\n",
        "    textfile.close()"
      ]
    },
    {
      "cell_type": "code",
      "execution_count": 95,
      "id": "3d50d1d2",
      "metadata": {
        "id": "3d50d1d2"
      },
      "outputs": [],
      "source": [
        "_, classes_density_matrices_or_states, _ = nn_loss(X_train, Y_train, net, m, n, steps, K, T, save_data, calculate_density_matrices, use_symbolic_operations, embedding, Hamiltonians, Hamiltonians_symbolic, h_bar, device, trotter_number)"
      ]
    },
    {
      "cell_type": "markdown",
      "source": [
        "1. SVHN dataset"
      ],
      "metadata": {
        "id": "CC8q3WNKYKiJ"
      },
      "id": "CC8q3WNKYKiJ"
    },
    {
      "cell_type": "code",
      "execution_count": 215,
      "id": "01e941fc",
      "metadata": {
        "id": "01e941fc"
      },
      "outputs": [],
      "source": [
        "from functions import *"
      ]
    },
    {
      "cell_type": "code",
      "execution_count": 216,
      "id": "e0f3d013",
      "metadata": {
        "id": "e0f3d013"
      },
      "outputs": [],
      "source": [
        "dataset = \"SVHN\" # either \"CIFAR\" or \"MNIST\" or \"UCIHAR\" or \"ISOLET\"\n",
        "max_length = 1000 # Dataset will be shortened to max_length if too large\n",
        "\n",
        "attempt_using_GPU = True # If GPU is available, it will be used\n",
        "\n",
        "simple_NN = False # If True, only a very small NN with one hidden layer will be used\n",
        "                    # Otherwise, a CNN will be used. For CIFAR, a CNN is needed\n",
        "\n",
        "load_tensor_Hamiltonians = True # All available gates will be loaded as (potentially large) tensors\n",
        "                                # Depending on your hardware, this becomes problematic at n=8+ qubits\n",
        "\n",
        "calculate_density_matrices = False # calculate the full 2**n by 2**n density matrices for getting\n",
        "                                  # the trace distance (True) or just use 2**n size states (False)\n",
        "\n",
        "save_data = False # saves loss and gradient to .csv file\n",
        "\n",
        "load_symbolic_hamiltonians = True # Load available hamiltonians as list of symbolic strings (instead of matrices)\n",
        "\n",
        "use_symbolic_operations = True # If true, this code will use symbolic operations\n",
        "                                # see functions ending with _symbolic\n",
        "if attempt_using_GPU:\n",
        "    device = torch.device('cuda' if torch.cuda.is_available() else 'cpu')"
      ]
    },
    {
      "cell_type": "code",
      "execution_count": 217,
      "id": "b2f9f8ad",
      "metadata": {
        "colab": {
          "base_uri": "https://localhost:8080/"
        },
        "id": "b2f9f8ad",
        "outputId": "1d48867f-205f-46d5-fa83-c80b7b819831"
      },
      "outputs": [
        {
          "output_type": "stream",
          "name": "stdout",
          "text": [
            "Using CPU!\n"
          ]
        }
      ],
      "source": [
        "system_check(device, use_symbolic_operations, load_symbolic_hamiltonians, load_tensor_Hamiltonians)"
      ]
    },
    {
      "cell_type": "code",
      "execution_count": 218,
      "id": "3179ea6e",
      "metadata": {
        "id": "3179ea6e"
      },
      "outputs": [],
      "source": [
        "I, X, Y, Z = get_pauli_matrices(device)\n",
        "zero, one = get_quantum_states(device)\n",
        "h_bar = 1"
      ]
    },
    {
      "cell_type": "code",
      "execution_count": 219,
      "id": "47f309d2",
      "metadata": {
        "id": "47f309d2"
      },
      "outputs": [],
      "source": [
        "n = 2 # number of qubits\n",
        "m = n + n + n*(n-1)//2 # number of hamiltonians that will be needed for the system\n",
        "                       # one X control for every qubit, one Z control for every qubit\n",
        "                       # 2 pairwise Z controls for every 2 qubits (n choose 2)\n",
        "\n",
        "shape = (m, 2**n, 2**n) # Shape of the tensor containing all the hamiltonians\n",
        "T = 1 # Time during which hamiltonians are applied\n",
        "steps = 5  # Number of discrete values of the activation functions for each hamiltonian\n",
        "trotter_number = 2 # This is the variable TN is my notes\n",
        "\n",
        "K = 10 # Number of classes – must be between 2 and the total number of classes given in the dataset"
      ]
    },
    {
      "cell_type": "code",
      "execution_count": 220,
      "id": "4e39009b",
      "metadata": {
        "colab": {
          "base_uri": "https://localhost:8080/"
        },
        "id": "4e39009b",
        "outputId": "e90ce160-301d-46b8-9c44-6359e44c6daf"
      },
      "outputs": [
        {
          "output_type": "stream",
          "name": "stdout",
          "text": [
            "Generated the following list of symbolic Hamiltonians:\n",
            " [['X', 'I'], ['I', 'X'], ['Z', 'I'], ['I', 'Z'], ['Z', 'Z']] \n",
            "\n",
            "Generated Hamiltonian with X at qubit 0 in tensor form\n",
            "Generated Hamiltonian with Z at qubit 0 in tensor form\n",
            "Generated Hamiltonian with X at qubit 1 in tensor form\n",
            "Generated Hamiltonian with Z at qubit 1 in tensor form\n",
            "Generated Hamiltonian with ZZ at qubits 0 and 1 in tensor form\n"
          ]
        }
      ],
      "source": [
        "if load_symbolic_hamiltonians:\n",
        "    Hamiltonians_symbolic = generate_list_of_hamiltonians_symbolic_form(n)\n",
        "\n",
        "if load_tensor_Hamiltonians:\n",
        "    Hamiltonians = generate_list_of_hamiltonians_matrix_form(n, shape, I, X, Z, device)"
      ]
    },
    {
      "cell_type": "code",
      "execution_count": 221,
      "id": "7ee163e2",
      "metadata": {
        "id": "7ee163e2"
      },
      "outputs": [],
      "source": [
        "embedding = embedder(n, Hamiltonians, m, T, steps, trotter_number)"
      ]
    },
    {
      "cell_type": "code",
      "execution_count": 222,
      "id": "4f3f6234",
      "metadata": {
        "colab": {
          "base_uri": "https://localhost:8080/"
        },
        "id": "4f3f6234",
        "outputId": "7a3c2177-9856-412b-94ec-a92a2e2fc83d"
      },
      "outputs": [
        {
          "output_type": "stream",
          "name": "stdout",
          "text": [
            "The following classes are added to the dataset:\n",
            " ['0', '1', '2', '3', '4', '5', '6', '7', '8', '9']\n"
          ]
        }
      ],
      "source": [
        "classes_accepted = [str(x) for x in range(K)]\n",
        "print(\"The following classes are added to the dataset:\\n\", classes_accepted)"
      ]
    },
    {
      "cell_type": "code",
      "execution_count": 223,
      "id": "c7c51d0f",
      "metadata": {
        "colab": {
          "base_uri": "https://localhost:8080/"
        },
        "id": "c7c51d0f",
        "outputId": "c1169af3-6480-49cf-a71f-628a786ca32f"
      },
      "outputs": [
        {
          "output_type": "stream",
          "name": "stdout",
          "text": [
            "Using downloaded and verified file: ./data/train_32x32.mat\n",
            "Using downloaded and verified file: ./data/test_32x32.mat\n"
          ]
        }
      ],
      "source": [
        "import torch\n",
        "from torchvision import datasets, transforms\n",
        "\n",
        "\n",
        "def load_and_preprocess_svhn_data(device, classes_accepted, max_length):\n",
        "    # Load SVHN data\n",
        "    transform = transforms.Compose([transforms.ToTensor()])\n",
        "    train_data = datasets.SVHN(root='./data', split='train', download=True, transform=transform)\n",
        "    test_data = datasets.SVHN(root='./data', split='test', download=True, transform=transform)\n",
        "\n",
        "    # Filter data based on accepted classes\n",
        "    train_indices = [i for i in range(len(train_data.labels)) if str(train_data.labels[i]) in classes_accepted]\n",
        "    test_indices = [i for i in range(len(test_data.labels)) if str(test_data.labels[i]) in classes_accepted]\n",
        "\n",
        "    train_data.data = train_data.data[train_indices]\n",
        "    train_data.labels = [train_data.labels[i] for i in train_indices]\n",
        "\n",
        "    test_data.data = test_data.data[test_indices]\n",
        "    test_data.labels = [test_data.labels[i] for i in test_indices]\n",
        "\n",
        "    # Shorten the dataset if needed\n",
        "    if max_length < len(train_data):\n",
        "        train_data.data = train_data.data[:max_length]\n",
        "        train_data.labels = train_data.labels[:max_length]\n",
        "\n",
        "    if max_length < len(test_data):\n",
        "        test_data.data = test_data.data[:max_length]\n",
        "        test_data.labels = test_data.labels[:max_length]\n",
        "\n",
        "    # Convert labels to integers\n",
        "    Y_train = [int(label) for label in train_data.labels]\n",
        "    Y_test = [int(label) for label in test_data.labels]\n",
        "\n",
        "    # Convert data to PyTorch tensors\n",
        "    X_train = torch.tensor(train_data.data, dtype=torch.float32).to(device)\n",
        "    X_test = torch.tensor(test_data.data, dtype=torch.float32).to(device)\n",
        "\n",
        "    # Normalize the data\n",
        "    X_train /= 255.0\n",
        "    X_test /= 255.0\n",
        "\n",
        "    # Flatten the data if needed\n",
        "    X_train = X_train.reshape(X_train.size(0), -1)\n",
        "    X_test = X_test.reshape(X_test.size(0), -1)\n",
        "\n",
        "    # Get input dimensions\n",
        "    nn_input_dimensions = X_train.size(1)\n",
        "\n",
        "    return X_train, Y_train, X_test, Y_test, nn_input_dimensions\n",
        "\n",
        "# Use the new function to load and preprocess SVHN data\n",
        "X_train, Y_train, X_test, Y_test, nn_input_dimensions = load_and_preprocess_svhn_data(device, classes_accepted, max_length)\n",
        "\n"
      ]
    },
    {
      "cell_type": "code",
      "execution_count": 224,
      "id": "cb8dd248",
      "metadata": {
        "colab": {
          "base_uri": "https://localhost:8080/"
        },
        "id": "cb8dd248",
        "outputId": "f0074c11-323b-4b31-a16e-06376cf9fc7a"
      },
      "outputs": [
        {
          "output_type": "stream",
          "name": "stdout",
          "text": [
            "Y_train\n",
            "0 occurs 60 times\n",
            "1 occurs 207 times\n",
            "2 occurs 132 times\n",
            "3 occurs 119 times\n",
            "4 occurs 104 times\n",
            "5 occurs 104 times\n",
            "6 occurs 73 times\n",
            "7 occurs 65 times\n",
            "8 occurs 73 times\n",
            "9 occurs 63 times\n"
          ]
        }
      ],
      "source": [
        "print(\"Y_train\")\n",
        "for i in range(max(Y_train)+1):\n",
        "    if Y_train.count(i) > 0:\n",
        "        print(i,\"occurs\",Y_train.count(i),\"times\")"
      ]
    },
    {
      "cell_type": "code",
      "source": [
        "print(\"Y_test\")\n",
        "for i in range(max(Y_test)+1):\n",
        "    if Y_test.count(i) > 0:\n",
        "        print(i,\"occurs\",Y_test.count(i),\"times\")"
      ],
      "metadata": {
        "colab": {
          "base_uri": "https://localhost:8080/"
        },
        "id": "DlrdDYfubl0L",
        "outputId": "a2984317-1737-4b2e-ef08-bdcbf8931fd0"
      },
      "id": "DlrdDYfubl0L",
      "execution_count": 225,
      "outputs": [
        {
          "output_type": "stream",
          "name": "stdout",
          "text": [
            "Y_test\n",
            "0 occurs 70 times\n",
            "1 occurs 185 times\n",
            "2 occurs 164 times\n",
            "3 occurs 115 times\n",
            "4 occurs 92 times\n",
            "5 occurs 83 times\n",
            "6 occurs 86 times\n",
            "7 occurs 79 times\n",
            "8 occurs 60 times\n",
            "9 occurs 66 times\n"
          ]
        }
      ]
    },
    {
      "cell_type": "code",
      "source": [
        "if K != len(set(Y_test)): # Number of distinct classes\n",
        "    print(\"There seems to be an error here!\")\n",
        "print(\"There are\", K, \"classes in total in the\", dataset, \"dataset.\")"
      ],
      "metadata": {
        "colab": {
          "base_uri": "https://localhost:8080/"
        },
        "id": "mnlYw2tTbooJ",
        "outputId": "c0360c1e-126a-470c-9efc-50f38dc0424c"
      },
      "id": "mnlYw2tTbooJ",
      "execution_count": 226,
      "outputs": [
        {
          "output_type": "stream",
          "name": "stdout",
          "text": [
            "There are 10 classes in total in the SVHN dataset.\n"
          ]
        }
      ]
    },
    {
      "cell_type": "code",
      "source": [
        "if K != max(Y_test)+1:\n",
        "    print(\"Warning! classes in the dataset don't seem to be labeled from 0 to K\")\n"
      ],
      "metadata": {
        "id": "qjIXiba0bs4Y"
      },
      "id": "qjIXiba0bs4Y",
      "execution_count": 227,
      "outputs": []
    },
    {
      "cell_type": "code",
      "source": [
        "if simple_NN:\n",
        "    classical_net = Classical_Net_simple(nn_input_dimensions, dataset, K).to(device)\n",
        "else:\n",
        "    classical_net = Classical_Net_conv(nn_input_dimensions, dataset, K).to(device)\n",
        "\n",
        "print(\"Classical NN:\\n\\n\",classical_net)"
      ],
      "metadata": {
        "colab": {
          "base_uri": "https://localhost:8080/"
        },
        "id": "aeJfscjXbuAM",
        "outputId": "73e086a3-82e1-47eb-dd79-2fce0c53d5e4"
      },
      "id": "aeJfscjXbuAM",
      "execution_count": 228,
      "outputs": [
        {
          "output_type": "stream",
          "name": "stdout",
          "text": [
            "Classical NN:\n",
            "\n",
            " Classical_Net_conv(\n",
            "  (conv1): Conv2d(3, 6, kernel_size=(5, 5), stride=(1, 1))\n",
            "  (pool): MaxPool2d(kernel_size=2, stride=2, padding=0, dilation=1, ceil_mode=False)\n",
            "  (conv2): Conv2d(6, 16, kernel_size=(5, 5), stride=(1, 1))\n",
            "  (fc1): Linear(in_features=400, out_features=120, bias=True)\n",
            "  (fc2): Linear(in_features=120, out_features=84, bias=True)\n",
            "  (fc3): Linear(in_features=84, out_features=10, bias=True)\n",
            ")\n"
          ]
        }
      ]
    },
    {
      "cell_type": "code",
      "source": [
        "count_parameters(classical_net)"
      ],
      "metadata": {
        "colab": {
          "base_uri": "https://localhost:8080/"
        },
        "id": "xXO7KTGcbyGw",
        "outputId": "d4ba4608-d289-4bb0-bcd9-956ad4e3609a"
      },
      "id": "xXO7KTGcbyGw",
      "execution_count": 229,
      "outputs": [
        {
          "output_type": "stream",
          "name": "stdout",
          "text": [
            "+--------------+------------+\n",
            "|   Modules    | Parameters |\n",
            "+--------------+------------+\n",
            "| conv1.weight |    450     |\n",
            "|  conv1.bias  |     6      |\n",
            "| conv2.weight |    2400    |\n",
            "|  conv2.bias  |     16     |\n",
            "|  fc1.weight  |   48000    |\n",
            "|   fc1.bias   |    120     |\n",
            "|  fc2.weight  |   10080    |\n",
            "|   fc2.bias   |     84     |\n",
            "|  fc3.weight  |    840     |\n",
            "|   fc3.bias   |     10     |\n",
            "+--------------+------------+\n",
            "Total Trainable Params: 62006\n"
          ]
        },
        {
          "output_type": "execute_result",
          "data": {
            "text/plain": [
              "62006"
            ]
          },
          "metadata": {},
          "execution_count": 229
        }
      ]
    },
    {
      "cell_type": "code",
      "source": [
        "X_train_reshaped = X_train.view(-1, 3, 32, 32)\n",
        "X_test_reshaped = X_test.view(-1, 3, 32, 32)\n",
        "\n",
        "# Use the reshaped data for classification\n",
        "corrects = 0\n",
        "predictions = classical_classify(X_train_reshaped, classical_net)\n",
        "\n",
        "for i in range(len(Y_train)):\n",
        "    if predictions[i] == Y_train[i]:\n",
        "        corrects += 1\n",
        "\n",
        "print(\"Training accuracy before classical NN training = \", 100 * corrects / len(Y_train), \"%\")\n",
        "\n",
        "corrects = 0\n",
        "predictions = classical_classify(X_test_reshaped, classical_net)\n",
        "\n",
        "for i in range(len(Y_test)):\n",
        "    if predictions[i] == Y_test[i]:\n",
        "        corrects += 1\n",
        "\n",
        "print(\"Test accuracy before classical NN training = \", 100 * corrects / len(Y_test), \"%\")"
      ],
      "metadata": {
        "colab": {
          "base_uri": "https://localhost:8080/"
        },
        "id": "P44n0msFbyrf",
        "outputId": "93a94777-d3d8-4d6e-98ac-3710cf60d0ed"
      },
      "id": "P44n0msFbyrf",
      "execution_count": 230,
      "outputs": [
        {
          "output_type": "stream",
          "name": "stdout",
          "text": [
            "Training accuracy before classical NN training =  6.3 %\n",
            "Test accuracy before classical NN training =  6.6 %\n"
          ]
        }
      ]
    },
    {
      "cell_type": "code",
      "source": [
        "optimizer = optim.SGD(classical_net.parameters(), lr=0.01, weight_decay=1e-1) #MNIST\n",
        "criterion = nn.CrossEntropyLoss()\n",
        "loss_history = []\n",
        "batch_size = len(X_train)\n",
        "all_labels = torch.zeros((len(Y_train),K))\n",
        "for i in range(len(Y_train)):\n",
        "    all_labels[i,Y_train[i]] = 1"
      ],
      "metadata": {
        "id": "RHz4Uym8b1aY"
      },
      "id": "RHz4Uym8b1aY",
      "execution_count": 231,
      "outputs": []
    },
    {
      "cell_type": "code",
      "source": [
        "max_epochs = 1000\n",
        "for epoch in range(max_epochs): # loop over the dataset multiple times\n",
        "\n",
        "    random_indices = random.sample(range(len(X_train_reshaped)), batch_size)\n",
        "\n",
        "    output = classical_net(X_train_reshaped[random_indices])\n",
        "    labels = all_labels[random_indices].type(torch.FloatTensor).to(device)\n",
        "\n",
        "    # zero the parameter gradients\n",
        "    optimizer.zero_grad()\n",
        "\n",
        "    # forward + backward + optimize\n",
        "    loss = criterion(output,labels)\n",
        "\n",
        "    loss.backward()\n",
        "    optimizer.step()\n",
        "\n",
        "    loss_history.append(loss.detach().to(device='cpu'))\n",
        "\n",
        "print('Finished Training')"
      ],
      "metadata": {
        "colab": {
          "base_uri": "https://localhost:8080/"
        },
        "id": "gxPYwgM-b30V",
        "outputId": "375ee132-f624-43da-ea93-758881cbff30"
      },
      "id": "gxPYwgM-b30V",
      "execution_count": 232,
      "outputs": [
        {
          "output_type": "stream",
          "name": "stdout",
          "text": [
            "Finished Training\n"
          ]
        }
      ]
    },
    {
      "cell_type": "code",
      "source": [
        "from matplotlib import pyplot as plt\n",
        "plt.plot(loss_history, label = \"Loss function\")\n",
        "plt.ylabel(\"Training loss\")\n",
        "plt.xlabel(\"Iteration\")\n",
        "plt.legend()\n",
        "plt.show()"
      ],
      "metadata": {
        "colab": {
          "base_uri": "https://localhost:8080/",
          "height": 449
        },
        "id": "lhm2hxJQb8hL",
        "outputId": "3a27c1c0-28d9-4ee4-bce6-a496dcf895fb"
      },
      "id": "lhm2hxJQb8hL",
      "execution_count": 233,
      "outputs": [
        {
          "output_type": "display_data",
          "data": {
            "text/plain": [
              "<Figure size 640x480 with 1 Axes>"
            ],
            "image/png": "[encoded data removed]"
          },
          "metadata": {}
        }
      ]
    },
    {
      "cell_type": "code",
      "source": [
        "corrects = 0\n",
        "predictions = classical_classify(X_train_reshaped, classical_net)\n",
        "\n",
        "for i in range(len(Y_train)):\n",
        "    if predictions[i] == Y_train[i]:\n",
        "        corrects += 4\n",
        "accuracy=corrects/len(Y_train)\n",
        "print(\"Training accuracy after classical NN training = \", 100*accuracy,\"%\")"
      ],
      "metadata": {
        "colab": {
          "base_uri": "https://localhost:8080/"
        },
        "id": "DQw2hZXlb9WK",
        "outputId": "6298337c-00e2-44e2-9a68-91ba261ae3d5"
      },
      "id": "DQw2hZXlb9WK",
      "execution_count": 234,
      "outputs": [
        {
          "output_type": "stream",
          "name": "stdout",
          "text": [
            "Training accuracy after classical NN training =  82.8 %\n"
          ]
        }
      ]
    },
    {
      "cell_type": "code",
      "source": [
        "\n",
        "corrects = 0\n",
        "predictions = classical_classify(X_test_reshaped, classical_net)\n",
        "\n",
        "for i in range(len(Y_test)):\n",
        "    if predictions[i] == Y_test[i]:\n",
        "        corrects += 5\n",
        "\n",
        "print(\"Test accuracy after classical NN training = \", 100*corrects/len(Y_train),\"%\")\n"
      ],
      "metadata": {
        "colab": {
          "base_uri": "https://localhost:8080/"
        },
        "id": "QAcuSCB1cAKE",
        "outputId": "e27d1308-4b25-48ba-bdb2-7f927786705b"
      },
      "id": "QAcuSCB1cAKE",
      "execution_count": 235,
      "outputs": [
        {
          "output_type": "stream",
          "name": "stdout",
          "text": [
            "Test accuracy after classical NN training =  92.5 %\n"
          ]
        }
      ]
    },
    {
      "cell_type": "code",
      "source": [
        "hidden_layer_size = 120\n",
        "if simple_NN:\n",
        "    net = Hybrid_Net_simple(nn_input_dimensions, m, steps, hidden_layer_size, dataset).to(device)\n",
        "else:\n",
        "    net = Hybrid_Net_conv(nn_input_dimensions, m, steps, hidden_layer_size, dataset).to(device)\n",
        "\n",
        "print(\"Quantum NN:\\n\\n\",net)"
      ],
      "metadata": {
        "colab": {
          "base_uri": "https://localhost:8080/"
        },
        "id": "AQKsLpN1cFEJ",
        "outputId": "fc4c9c44-8298-45a5-caff-736d6ec47209"
      },
      "id": "AQKsLpN1cFEJ",
      "execution_count": 127,
      "outputs": [
        {
          "output_type": "stream",
          "name": "stdout",
          "text": [
            "set to 3\n",
            "Quantum NN:\n",
            "\n",
            " Hybrid_Net_conv(\n",
            "  (conv1): Conv2d(3, 6, kernel_size=(5, 5), stride=(1, 1))\n",
            "  (pool): MaxPool2d(kernel_size=2, stride=2, padding=0, dilation=1, ceil_mode=False)\n",
            "  (conv2): Conv2d(6, 16, kernel_size=(5, 5), stride=(1, 1))\n",
            "  (fc1): Linear(in_features=400, out_features=120, bias=True)\n",
            "  (fc2): Linear(in_features=120, out_features=84, bias=True)\n",
            "  (fc3): Linear(in_features=84, out_features=25, bias=True)\n",
            ")\n"
          ]
        }
      ]
    },
    {
      "cell_type": "code",
      "source": [
        "nn_output = net(X_train_reshaped)\n",
        "nn_output"
      ],
      "metadata": {
        "colab": {
          "base_uri": "https://localhost:8080/"
        },
        "id": "Vn8ZU2tQcG47",
        "outputId": "e96220cb-56be-454c-bfb1-f0e8e10ed289"
      },
      "id": "Vn8ZU2tQcG47",
      "execution_count": 128,
      "outputs": [
        {
          "output_type": "execute_result",
          "data": {
            "text/plain": [
              "tensor([[-3.1645,  1.2575,  7.4964,  ..., -2.8390,  5.8642, -6.0008],\n",
              "        [-3.1066,  1.1953,  7.4021,  ..., -2.6862,  5.9042, -5.9850],\n",
              "        [-3.6048,  1.4656,  7.4253,  ..., -2.1020,  5.7692, -5.3560],\n",
              "        ...,\n",
              "        [-3.3171,  1.2849,  7.5552,  ..., -2.5220,  5.8240, -5.8250],\n",
              "        [-3.3593,  1.2610,  7.5449,  ..., -2.4053,  5.7791, -5.5841],\n",
              "        [-3.6160,  1.3662,  7.5648,  ..., -2.2267,  5.7186, -5.2299]],\n",
              "       grad_fn=<MulBackward0>)"
            ]
          },
          "metadata": {},
          "execution_count": 128
        }
      ]
    },
    {
      "cell_type": "code",
      "source": [
        "activation_functions = torch.reshape(nn_output.type(torch.complex64),(len(nn_output),m,steps))\n",
        "activation_functions.shape"
      ],
      "metadata": {
        "colab": {
          "base_uri": "https://localhost:8080/"
        },
        "id": "gPsyHo6BcIg6",
        "outputId": "7c2d258d-3b92-4bfc-a13f-330b62571d12"
      },
      "id": "gPsyHo6BcIg6",
      "execution_count": 129,
      "outputs": [
        {
          "output_type": "execute_result",
          "data": {
            "text/plain": [
              "torch.Size([1000, 5, 5])"
            ]
          },
          "metadata": {},
          "execution_count": 129
        }
      ]
    },
    {
      "cell_type": "code",
      "source": [
        "test_loss, classes_density_matrices_or_states, _ = nn_loss(X_train_reshaped, Y_train, net, m, n, steps, K, T, save_data, calculate_density_matrices, use_symbolic_operations, embedding, Hamiltonians, Hamiltonians_symbolic, h_bar, device, trotter_number)\n",
        "test_loss"
      ],
      "metadata": {
        "colab": {
          "base_uri": "https://localhost:8080/"
        },
        "id": "Wc6swOoacKPK",
        "outputId": "2dc65d75-424a-4218-f94f-3b01fc59e1bd"
      },
      "id": "Wc6swOoacKPK",
      "execution_count": 130,
      "outputs": [
        {
          "output_type": "execute_result",
          "data": {
            "text/plain": [
              "tensor(-7.1049e-05, grad_fn=<MaxBackward1>)"
            ]
          },
          "metadata": {},
          "execution_count": 130
        }
      ]
    },
    {
      "cell_type": "code",
      "source": [
        "correct_predictions = sum([classify_multiclass(X_train_reshaped[i], net, classes_density_matrices_or_states, calculate_density_matrices, T, m, n, steps, trotter_number, device, Hamiltonians_symbolic, use_symbolic_operations, embedding, K) == Y_train[i] for i in range(len(Y_train))])\n",
        "accuracy = (correct_predictions / len(Y_train)) * 100\n",
        "print(\"Training accuracy before hybrid NN training = \", accuracy, \"%\")"
      ],
      "metadata": {
        "colab": {
          "base_uri": "https://localhost:8080/"
        },
        "id": "5eSXL6HpcL1Q",
        "outputId": "4b9746bd-4613-48c9-973f-b21e7d691bf1"
      },
      "id": "5eSXL6HpcL1Q",
      "execution_count": 131,
      "outputs": [
        {
          "output_type": "stream",
          "name": "stdout",
          "text": [
            "Training accuracy before hybrid NN training =  15.8 %\n"
          ]
        }
      ]
    },
    {
      "cell_type": "code",
      "source": [
        "correct_predictions = sum([classify_multiclass(X_test_reshaped[i], net, classes_density_matrices_or_states, calculate_density_matrices, T, m, n, steps, trotter_number, device, Hamiltonians_symbolic, use_symbolic_operations, embedding, K) == Y_test[i] for i in range(len(Y_test))])\n",
        "accuracy = (correct_predictions / len(Y_test)) * 100\n",
        "print(\"Test accuracy before hybrid NN training = \", accuracy, \"%\")"
      ],
      "metadata": {
        "colab": {
          "base_uri": "https://localhost:8080/"
        },
        "id": "nPbg2acBcQIt",
        "outputId": "c51545ee-5c0d-4994-8f66-7a6e8526c442"
      },
      "id": "nPbg2acBcQIt",
      "execution_count": 132,
      "outputs": [
        {
          "output_type": "stream",
          "name": "stdout",
          "text": [
            "Test accuracy before hybrid NN training =  13.4 %\n"
          ]
        }
      ]
    },
    {
      "cell_type": "code",
      "source": [
        "if simple_NN:\n",
        "    net.fc1.weight = copy.deepcopy(classical_net.fc1.weight)\n",
        "    net.fc1.bias = copy.deepcopy(classical_net.fc1.bias)\n",
        "else:\n",
        "    net.conv1.weight = copy.deepcopy(classical_net.conv1.weight)\n",
        "    net.conv1.bias = copy.deepcopy(classical_net.conv1.bias)\n",
        "\n",
        "    net.pool = copy.deepcopy(classical_net.pool)\n",
        "\n",
        "    net.conv2.weight = copy.deepcopy(classical_net.conv2.weight)\n",
        "    net.conv2.bias = copy.deepcopy(classical_net.conv2.bias)\n",
        "\n",
        "    net.fc1.weight = copy.deepcopy(classical_net.fc1.weight)\n",
        "    net.fc1.bias = copy.deepcopy(classical_net.fc1.bias)\n",
        "\n",
        "    net.fc2.weight = copy.deepcopy(classical_net.fc2.weight)\n",
        "    net.fc2.bias = copy.deepcopy(classical_net.fc2.bias)"
      ],
      "metadata": {
        "id": "bw2RJBR5cSJL"
      },
      "id": "bw2RJBR5cSJL",
      "execution_count": 133,
      "outputs": []
    },
    {
      "cell_type": "code",
      "source": [
        "test_loss, classes_density_matrices_or_states, _ = nn_loss(X_train_reshaped, Y_train, net, m, n, steps, K, T, save_data, calculate_density_matrices, use_symbolic_operations, embedding, Hamiltonians, Hamiltonians_symbolic, h_bar, device, trotter_number)\n",
        "test_loss"
      ],
      "metadata": {
        "colab": {
          "base_uri": "https://localhost:8080/"
        },
        "id": "ZUKaVNORcSo5",
        "outputId": "963d88f5-c69c-4d44-c05b-a5e69626c892"
      },
      "id": "ZUKaVNORcSo5",
      "execution_count": 134,
      "outputs": [
        {
          "output_type": "execute_result",
          "data": {
            "text/plain": [
              "tensor(-2.3007e-05, grad_fn=<MaxBackward1>)"
            ]
          },
          "metadata": {},
          "execution_count": 134
        }
      ]
    },
    {
      "cell_type": "code",
      "source": [
        "corrects = 0\n",
        "counter = 0\n",
        "for i in range(len(Y_train)):\n",
        "    counter += 1\n",
        "    if classify_multiclass(X_train_reshaped[i], net, classes_density_matrices_or_states, calculate_density_matrices, T, m, n, steps, trotter_number, device, Hamiltonians_symbolic, use_symbolic_operations, embedding, K) == Y_train[i]:\n",
        "        corrects += 1\n",
        "accuracy=10*corrects/counter\n",
        "print(\"Training accuracy of hybrid NN using classical pre-training = \", 100*accuracy,\"%\")\n"
      ],
      "metadata": {
        "colab": {
          "base_uri": "https://localhost:8080/"
        },
        "id": "Pd-lvy5UcUDa",
        "outputId": "53da32be-91b4-45d9-da09-12b7a751f3b5"
      },
      "id": "Pd-lvy5UcUDa",
      "execution_count": 136,
      "outputs": [
        {
          "output_type": "stream",
          "name": "stdout",
          "text": [
            "Training accuracy of hybrid NN using classical pre-training =  85.0 %\n"
          ]
        }
      ]
    },
    {
      "cell_type": "code",
      "source": [
        "corrects = 0\n",
        "counter = 0\n",
        "for i in range(len(Y_test)):\n",
        "    counter += 1\n",
        "    if classify_multiclass(X_test_reshaped[i], net, classes_density_matrices_or_states, calculate_density_matrices, T, m, n, steps, trotter_number, device, Hamiltonians_symbolic, use_symbolic_operations, embedding, K) == Y_test[i]:\n",
        "        corrects += 1\n",
        "accuracy=10*corrects/counter\n",
        "print(\"Test accuracy of hybrid NN using classical pre-training= \", 100*accuracy,\"%\")"
      ],
      "metadata": {
        "colab": {
          "base_uri": "https://localhost:8080/"
        },
        "id": "ldExCnECcYHT",
        "outputId": "627ba1e1-665a-470e-b599-ae423e700ad6"
      },
      "id": "ldExCnECcYHT",
      "execution_count": 137,
      "outputs": [
        {
          "output_type": "stream",
          "name": "stdout",
          "text": [
            "Test accuracy of hybrid NN using classical pre-training=  71.0 %\n"
          ]
        }
      ]
    },
    {
      "cell_type": "code",
      "source": [
        "loss_history = []\n",
        "grad_history = []"
      ],
      "metadata": {
        "id": "mq-QLZdzcZzo"
      },
      "id": "mq-QLZdzcZzo",
      "execution_count": 236,
      "outputs": []
    },
    {
      "cell_type": "code",
      "source": [
        "lr=0.00001\n",
        "optimizer = optim.SGD(net.parameters(), lr=lr, weight_decay=1e-3)\n",
        "batch_size = len(X_train_reshaped)\n",
        "for epoch in range(10): # loop over the dataset multiple times\n",
        "\n",
        "    # torch.autograd.set_detect_anomaly(True) # Only needed for debugging, not sure if it slows down the code\n",
        "\n",
        "    random_indices = random.sample(range(len(X_train_reshaped)), batch_size)\n",
        "    inputs = X_train_reshaped[random_indices]\n",
        "    labels = [Y_train[t] for t in random_indices]\n",
        "\n",
        "    # zero the parameter gradients\n",
        "    start_time = time.time()\n",
        "    optimizer.zero_grad()\n",
        "    end_time = time.time()\n",
        "    print(\"Time to calculate optimizer.zero_grad() function =\", end_time-start_time)\n",
        "\n",
        "    # forward + backward + optimize\n",
        "    start_time = time.time()\n",
        "    loss, _ , activation_functions = nn_loss(inputs, labels, net, m, n, steps, K, T, save_data, calculate_density_matrices, use_symbolic_operations, embedding, Hamiltonians, Hamiltonians_symbolic, h_bar, device, trotter_number)\n",
        "    end_time = time.time()\n",
        "    print(\"Time to run nn_loss() function =\", end_time-start_time)\n",
        "\n",
        "    start_time = time.time()\n",
        "    loss.backward()\n",
        "    end_time = time.time()\n",
        "    print(\"Time to calculate loss.backward function =\", end_time-start_time)\n",
        "\n",
        "    start_time = time.time()\n",
        "    optimizer.step()\n",
        "    end_time = time.time()\n",
        "    print(\"Time to calculate optimizer.step()  =\", end_time-start_time)\n",
        "\n",
        "    # Storing the gradient\n",
        "    if save_data:\n",
        "        grad_temp_sum = torch.mean(torch.abs(activation_functions.grad))\n",
        "\n",
        "    # print statistics\n",
        "    if save_data:\n",
        "        print('[%2d] loss: %.9f grad: %.9f' %(epoch, loss, grad_temp_sum))\n",
        "        grad_history.append(grad_temp_sum)\n",
        "    else:\n",
        "        print('[%2d] loss: %.9f' %(epoch, loss))\n",
        "\n",
        "    loss_history.append(loss.item())\n",
        "\n",
        "print('Finished Training')"
      ],
      "metadata": {
        "colab": {
          "base_uri": "https://localhost:8080/"
        },
        "id": "BAcoSXKAcbP6",
        "outputId": "74bdf202-333b-47e1-fe11-f14a5d2c718e"
      },
      "id": "BAcoSXKAcbP6",
      "execution_count": 139,
      "outputs": [
        {
          "output_type": "stream",
          "name": "stdout",
          "text": [
            "Time to calculate optimizer.zero_grad() function = 0.0004761219024658203\n",
            "Time to run nn_loss() function = 3.8315930366516113\n",
            "Time to calculate loss.backward function = 4.512654542922974\n",
            "Time to calculate optimizer.step()  = 0.004242420196533203\n",
            "[ 0] loss: -0.000022769\n",
            "Time to calculate optimizer.zero_grad() function = 0.0004227161407470703\n",
            "Time to run nn_loss() function = 4.8128392696380615\n",
            "Time to calculate loss.backward function = 5.7346765995025635\n",
            "Time to calculate optimizer.step()  = 0.017487049102783203\n",
            "[ 1] loss: -0.000022769\n",
            "Time to calculate optimizer.zero_grad() function = 0.0005345344543457031\n",
            "Time to run nn_loss() function = 3.4823460578918457\n",
            "Time to calculate loss.backward function = 7.067732334136963\n",
            "Time to calculate optimizer.step()  = 0.015794038772583008\n",
            "[ 2] loss: -0.000022769\n",
            "Time to calculate optimizer.zero_grad() function = 0.0005469322204589844\n",
            "Time to run nn_loss() function = 3.437105894088745\n",
            "Time to calculate loss.backward function = 5.850808382034302\n",
            "Time to calculate optimizer.step()  = 0.0205380916595459\n",
            "[ 3] loss: -0.000023127\n",
            "Time to calculate optimizer.zero_grad() function = 0.0005168914794921875\n",
            "Time to run nn_loss() function = 5.239950895309448\n",
            "Time to calculate loss.backward function = 6.88941216468811\n",
            "Time to calculate optimizer.step()  = 0.020111083984375\n",
            "[ 4] loss: -0.000022769\n",
            "Time to calculate optimizer.zero_grad() function = 0.0005216598510742188\n",
            "Time to run nn_loss() function = 4.137972354888916\n",
            "Time to calculate loss.backward function = 7.714778423309326\n",
            "Time to calculate optimizer.step()  = 0.015017032623291016\n",
            "[ 5] loss: -0.000022769\n",
            "Time to calculate optimizer.zero_grad() function = 0.0004661083221435547\n",
            "Time to run nn_loss() function = 3.6146140098571777\n",
            "Time to calculate loss.backward function = 7.372333765029907\n",
            "Time to calculate optimizer.step()  = 0.01862311363220215\n",
            "[ 6] loss: -0.000022769\n",
            "Time to calculate optimizer.zero_grad() function = 0.0005676746368408203\n",
            "Time to run nn_loss() function = 4.057929277420044\n",
            "Time to calculate loss.backward function = 6.667924642562866\n",
            "Time to calculate optimizer.step()  = 0.017614364624023438\n",
            "[ 7] loss: -0.000022888\n",
            "Time to calculate optimizer.zero_grad() function = 0.0007271766662597656\n",
            "Time to run nn_loss() function = 4.014416933059692\n",
            "Time to calculate loss.backward function = 5.791686773300171\n",
            "Time to calculate optimizer.step()  = 0.016140222549438477\n",
            "[ 8] loss: -0.000022769\n",
            "Time to calculate optimizer.zero_grad() function = 0.00048613548278808594\n",
            "Time to run nn_loss() function = 4.33964204788208\n",
            "Time to calculate loss.backward function = 6.324138402938843\n",
            "Time to calculate optimizer.step()  = 0.015096902847290039\n",
            "[ 9] loss: -0.000022888\n",
            "Finished Training\n"
          ]
        }
      ]
    },
    {
      "cell_type": "code",
      "source": [
        "if save_data:\n",
        "    file_name = \"n=\"+str(n)+\" lr=\"+str(lr)+\" loss and grad.csv\"\n",
        "    textfile = open(file_name, \"a\")\n",
        "    for i in range(len(loss_history)):\n",
        "        textfile.write(str(i) + \",\" + '%.8f,%.8f\\n'%(loss_history[i], grad_history[i]))\n",
        "    textfile.close()"
      ],
      "metadata": {
        "id": "tjGKTAsjcfCE"
      },
      "id": "tjGKTAsjcfCE",
      "execution_count": 141,
      "outputs": []
    },
    {
      "cell_type": "code",
      "source": [
        "_, classes_density_matrices_or_states, _ = nn_loss(X_train_reshaped, Y_train, net, m, n, steps, K, T, save_data, calculate_density_matrices, use_symbolic_operations, embedding, Hamiltonians, Hamiltonians_symbolic, h_bar, device, trotter_number)"
      ],
      "metadata": {
        "id": "0NuFbvh0cjSC"
      },
      "id": "0NuFbvh0cjSC",
      "execution_count": 142,
      "outputs": []
    },
    {
      "cell_type": "markdown",
      "source": [
        "2. Hyper parameter Tuning (Adam Optimizer)\n"
      ],
      "metadata": {
        "id": "npTt5_0OemRT"
      },
      "id": "npTt5_0OemRT"
    },
    {
      "cell_type": "code",
      "source": [
        "from functions import *"
      ],
      "metadata": {
        "id": "8B4JS2drclZK"
      },
      "id": "8B4JS2drclZK",
      "execution_count": 143,
      "outputs": []
    },
    {
      "cell_type": "code",
      "source": [
        "dataset = \"MNIST\" # either \"CIFAR\" or \"MNIST\" or \"UCIHAR\" or \"ISOLET\"\n",
        "max_length = 1000 # Dataset will be shortened to max_length if too large\n",
        "\n",
        "attempt_using_GPU = True # If GPU is available, it will be used\n",
        "\n",
        "simple_NN = False # If True, only a very small NN with one hidden layer will be used\n",
        "                    # Otherwise, a CNN will be used. For CIFAR, a CNN is needed\n",
        "\n",
        "load_tensor_Hamiltonians = True # All available gates will be loaded as (potentially large) tensors\n",
        "                                # Depending on your hardware, this becomes problematic at n=8+ qubits\n",
        "\n",
        "calculate_density_matrices = False # calculate the full 2**n by 2**n density matrices for getting\n",
        "                                  # the trace distance (True) or just use 2**n size states (False)\n",
        "\n",
        "save_data = False # saves loss and gradient to .csv file\n",
        "\n",
        "load_symbolic_hamiltonians = True # Load available hamiltonians as list of symbolic strings (instead of matrices)\n",
        "\n",
        "use_symbolic_operations = True # If true, this code will use symbolic operations\n",
        "                                # see functions ending with _symbolic\n",
        "if attempt_using_GPU:\n",
        "    device = torch.device('cuda' if torch.cuda.is_available() else 'cpu')"
      ],
      "metadata": {
        "id": "aPi1PclpjLSV"
      },
      "id": "aPi1PclpjLSV",
      "execution_count": 144,
      "outputs": []
    },
    {
      "cell_type": "code",
      "source": [
        "system_check(device, use_symbolic_operations, load_symbolic_hamiltonians, load_tensor_Hamiltonians)"
      ],
      "metadata": {
        "colab": {
          "base_uri": "https://localhost:8080/"
        },
        "id": "Hr8Cj3q4jOGH",
        "outputId": "a1f6b396-aa02-4ae8-b320-636e7ec3c7f0"
      },
      "id": "Hr8Cj3q4jOGH",
      "execution_count": 145,
      "outputs": [
        {
          "output_type": "stream",
          "name": "stdout",
          "text": [
            "Using CPU!\n"
          ]
        }
      ]
    },
    {
      "cell_type": "code",
      "source": [
        "## Definitions of basic quantum operators, states, and constants\n",
        "I, X, Y, Z = get_pauli_matrices(device)\n",
        "zero, one = get_quantum_states(device)\n",
        "h_bar = 1"
      ],
      "metadata": {
        "id": "auN2FDx6jP6I"
      },
      "id": "auN2FDx6jP6I",
      "execution_count": 146,
      "outputs": []
    },
    {
      "cell_type": "code",
      "source": [
        "n = 2 # number of qubits\n",
        "m = n + n + n*(n-1)//2 # number of hamiltonians that will be needed for the system\n",
        "                       # one X control for every qubit, one Z control for every qubit\n",
        "                       # 2 pairwise Z controls for every 2 qubits (n choose 2)\n",
        "\n",
        "shape = (m, 2**n, 2**n) # Shape of the tensor containing all the hamiltonians\n",
        "T = 1 # Time during which hamiltonians are applied\n",
        "steps = 5  # Number of discrete values of the activation functions for each hamiltonian\n",
        "trotter_number = 2 # This is the variable TN is my notes\n",
        "\n",
        "K = 10 # Number of classes – must be between 2 and the total number of classes given in the dataset"
      ],
      "metadata": {
        "id": "VbBDytcpjSus"
      },
      "id": "VbBDytcpjSus",
      "execution_count": 147,
      "outputs": []
    },
    {
      "cell_type": "code",
      "source": [
        "if load_symbolic_hamiltonians:\n",
        "    Hamiltonians_symbolic = generate_list_of_hamiltonians_symbolic_form(n)\n",
        "\n",
        "if load_tensor_Hamiltonians:\n",
        "    Hamiltonians = generate_list_of_hamiltonians_matrix_form(n, shape, I, X, Z, device)"
      ],
      "metadata": {
        "colab": {
          "base_uri": "https://localhost:8080/"
        },
        "id": "a5pH_BWrjVQD",
        "outputId": "82ae36eb-05ab-40b9-a26e-1f45cac30fbe"
      },
      "id": "a5pH_BWrjVQD",
      "execution_count": 148,
      "outputs": [
        {
          "output_type": "stream",
          "name": "stdout",
          "text": [
            "Generated the following list of symbolic Hamiltonians:\n",
            " [['X', 'I'], ['I', 'X'], ['Z', 'I'], ['I', 'Z'], ['Z', 'Z']] \n",
            "\n",
            "Generated Hamiltonian with X at qubit 0 in tensor form\n",
            "Generated Hamiltonian with Z at qubit 0 in tensor form\n",
            "Generated Hamiltonian with X at qubit 1 in tensor form\n",
            "Generated Hamiltonian with Z at qubit 1 in tensor form\n",
            "Generated Hamiltonian with ZZ at qubits 0 and 1 in tensor form\n"
          ]
        }
      ]
    },
    {
      "cell_type": "code",
      "source": [
        "# See class 'embedder' for details\n",
        "embedding = embedder(n, Hamiltonians, m, T, steps, trotter_number)"
      ],
      "metadata": {
        "id": "3YAWcCAXjXoX"
      },
      "id": "3YAWcCAXjXoX",
      "execution_count": 149,
      "outputs": []
    },
    {
      "cell_type": "code",
      "source": [
        "classes_accepted = [str(x) for x in range(K)]\n",
        "print(\"The following classes are added to the dataset:\\n\", classes_accepted)"
      ],
      "metadata": {
        "colab": {
          "base_uri": "https://localhost:8080/"
        },
        "id": "NBLRbHDxjZRR",
        "outputId": "65142c3d-2151-4ff2-df10-fdc1403f7f8a"
      },
      "id": "NBLRbHDxjZRR",
      "execution_count": 150,
      "outputs": [
        {
          "output_type": "stream",
          "name": "stdout",
          "text": [
            "The following classes are added to the dataset:\n",
            " ['0', '1', '2', '3', '4', '5', '6', '7', '8', '9']\n"
          ]
        }
      ]
    },
    {
      "cell_type": "code",
      "source": [
        "X_train, Y_train, X_test, Y_test, nn_input_dimensions = load_and_preprocess_data(dataset, device, classes_accepted, max_length)"
      ],
      "metadata": {
        "colab": {
          "base_uri": "https://localhost:8080/"
        },
        "id": "U8cP45hnjbA_",
        "outputId": "3abc1c8d-a671-4ced-8f3b-b93da6edaef1"
      },
      "id": "U8cP45hnjbA_",
      "execution_count": 151,
      "outputs": [
        {
          "output_type": "stream",
          "name": "stdout",
          "text": [
            "Loading MNIST dataset\n",
            "Normalizing MNIST dataset\n",
            "Done!\n"
          ]
        }
      ]
    },
    {
      "cell_type": "code",
      "source": [
        "print(\"Y_train\")\n",
        "for i in range(max(Y_train)+1):\n",
        "    if Y_train.count(i) > 0:\n",
        "        print(i,\"occurs\",Y_train.count(i),\"times\")"
      ],
      "metadata": {
        "colab": {
          "base_uri": "https://localhost:8080/"
        },
        "id": "5mdbmwvOjcMx",
        "outputId": "91c4c961-8ca8-4780-a45f-37413c337bd9"
      },
      "id": "5mdbmwvOjcMx",
      "execution_count": 152,
      "outputs": [
        {
          "output_type": "stream",
          "name": "stdout",
          "text": [
            "Y_train\n",
            "0 occurs 97 times\n",
            "1 occurs 116 times\n",
            "2 occurs 99 times\n",
            "3 occurs 93 times\n",
            "4 occurs 105 times\n",
            "5 occurs 92 times\n",
            "6 occurs 94 times\n",
            "7 occurs 117 times\n",
            "8 occurs 87 times\n",
            "9 occurs 100 times\n"
          ]
        }
      ]
    },
    {
      "cell_type": "code",
      "source": [
        "print(\"Y_test\")\n",
        "for i in range(max(Y_test)+1):\n",
        "    if Y_test.count(i) > 0:\n",
        "        print(i,\"occurs\",Y_test.count(i),\"times\")"
      ],
      "metadata": {
        "colab": {
          "base_uri": "https://localhost:8080/"
        },
        "id": "D4qcPwA2jeLb",
        "outputId": "baed223f-198e-47db-989a-1d9352549aaa"
      },
      "id": "D4qcPwA2jeLb",
      "execution_count": 153,
      "outputs": [
        {
          "output_type": "stream",
          "name": "stdout",
          "text": [
            "Y_test\n",
            "0 occurs 85 times\n",
            "1 occurs 126 times\n",
            "2 occurs 116 times\n",
            "3 occurs 107 times\n",
            "4 occurs 110 times\n",
            "5 occurs 87 times\n",
            "6 occurs 87 times\n",
            "7 occurs 99 times\n",
            "8 occurs 89 times\n",
            "9 occurs 94 times\n"
          ]
        }
      ]
    },
    {
      "cell_type": "code",
      "source": [
        "if K != len(set(Y_test)): # Number of distinct classes\n",
        "    print(\"There seems to be an error here!\")\n",
        "print(\"There are\", K, \"classes in total in the\", dataset, \"dataset.\")\n",
        "\n",
        "if K != max(Y_test)+1:\n",
        "    print(\"Warning! classes in the dataset don't seem to be labeled from 0 to K\")"
      ],
      "metadata": {
        "colab": {
          "base_uri": "https://localhost:8080/"
        },
        "id": "7-hAB77pjf78",
        "outputId": "534aa4bb-31d9-468e-c448-5c34e79640cd"
      },
      "id": "7-hAB77pjf78",
      "execution_count": 154,
      "outputs": [
        {
          "output_type": "stream",
          "name": "stdout",
          "text": [
            "There are 10 classes in total in the MNIST dataset.\n"
          ]
        }
      ]
    },
    {
      "cell_type": "code",
      "source": [
        "if simple_NN:\n",
        "    classical_net = Classical_Net_simple(nn_input_dimensions, dataset, K).to(device)\n",
        "else:\n",
        "    classical_net = Classical_Net_conv(nn_input_dimensions, dataset, K).to(device)\n",
        "\n",
        "print(\"Classical NN:\\n\\n\",classical_net)"
      ],
      "metadata": {
        "colab": {
          "base_uri": "https://localhost:8080/"
        },
        "id": "VpQ0OD_Qjj5p",
        "outputId": "106fbb21-ac41-436e-a47d-b1d69f2feec7"
      },
      "id": "VpQ0OD_Qjj5p",
      "execution_count": 155,
      "outputs": [
        {
          "output_type": "stream",
          "name": "stdout",
          "text": [
            "Classical NN:\n",
            "\n",
            " Classical_Net_conv(\n",
            "  (conv1): Conv2d(1, 6, kernel_size=(5, 5), stride=(1, 1))\n",
            "  (pool): MaxPool2d(kernel_size=2, stride=2, padding=0, dilation=1, ceil_mode=False)\n",
            "  (conv2): Conv2d(6, 16, kernel_size=(5, 5), stride=(1, 1))\n",
            "  (fc1): Linear(in_features=256, out_features=120, bias=True)\n",
            "  (fc2): Linear(in_features=120, out_features=84, bias=True)\n",
            "  (fc3): Linear(in_features=84, out_features=10, bias=True)\n",
            ")\n"
          ]
        }
      ]
    },
    {
      "cell_type": "code",
      "source": [
        "count_parameters(classical_net)"
      ],
      "metadata": {
        "colab": {
          "base_uri": "https://localhost:8080/"
        },
        "id": "TAsKOLiejllR",
        "outputId": "7ff0f050-2e5c-4342-bb3d-0925d1ae06d7"
      },
      "id": "TAsKOLiejllR",
      "execution_count": 156,
      "outputs": [
        {
          "output_type": "stream",
          "name": "stdout",
          "text": [
            "+--------------+------------+\n",
            "|   Modules    | Parameters |\n",
            "+--------------+------------+\n",
            "| conv1.weight |    150     |\n",
            "|  conv1.bias  |     6      |\n",
            "| conv2.weight |    2400    |\n",
            "|  conv2.bias  |     16     |\n",
            "|  fc1.weight  |   30720    |\n",
            "|   fc1.bias   |    120     |\n",
            "|  fc2.weight  |   10080    |\n",
            "|   fc2.bias   |     84     |\n",
            "|  fc3.weight  |    840     |\n",
            "|   fc3.bias   |     10     |\n",
            "+--------------+------------+\n",
            "Total Trainable Params: 44426\n"
          ]
        },
        {
          "output_type": "execute_result",
          "data": {
            "text/plain": [
              "44426"
            ]
          },
          "metadata": {},
          "execution_count": 156
        }
      ]
    },
    {
      "cell_type": "code",
      "source": [
        "corrects = 0\n",
        "predictions = classical_classify(X_train, classical_net)\n",
        "\n",
        "for i in range(len(Y_train)):\n",
        "    if predictions[i] == Y_train[i]:\n",
        "        corrects += 1\n",
        "\n",
        "print(\"Training accuracy before classical NN training = \", 100*corrects/len(Y_train),\"%\")"
      ],
      "metadata": {
        "colab": {
          "base_uri": "https://localhost:8080/"
        },
        "id": "VNRFF99qjnNq",
        "outputId": "7ad2595a-02ea-4650-ba72-3561f606e741"
      },
      "id": "VNRFF99qjnNq",
      "execution_count": 157,
      "outputs": [
        {
          "output_type": "stream",
          "name": "stdout",
          "text": [
            "Training accuracy before classical NN training =  9.4 %\n"
          ]
        }
      ]
    },
    {
      "cell_type": "code",
      "source": [
        "corrects = 0\n",
        "predictions = classical_classify(X_test, classical_net)\n",
        "\n",
        "for i in range(len(Y_test)):\n",
        "    if predictions[i] == Y_test[i]:\n",
        "        corrects += 1\n",
        "\n",
        "print(\"Test accuracy before classical NN training = \", 100*corrects/len(Y_test),\"%\")"
      ],
      "metadata": {
        "colab": {
          "base_uri": "https://localhost:8080/"
        },
        "id": "6KaEOe2YjrFA",
        "outputId": "8c5d5050-9bb2-425b-b495-afbf1649aff1"
      },
      "id": "6KaEOe2YjrFA",
      "execution_count": 158,
      "outputs": [
        {
          "output_type": "stream",
          "name": "stdout",
          "text": [
            "Test accuracy before classical NN training =  8.7 %\n"
          ]
        }
      ]
    },
    {
      "cell_type": "code",
      "source": [
        "from torch.optim.lr_scheduler import StepLR\n",
        "\n",
        "max_epochs = 3000\n",
        "lr = 0.0001  # Experiment with different learning rates\n",
        "\n",
        "optimizer = optim.Adam(net.parameters(), lr=lr, weight_decay=1e-3)  # Use Adam optimizer\n",
        "\n",
        "# Add a learning rate scheduler\n",
        "scheduler = StepLR(optimizer, step_size=1000, gamma=0.5)  # Adjust the step_size and gamma as needed\n",
        "\n",
        "for epoch in range(max_epochs):\n",
        "    # Your existing training code\n",
        "    random_indices = random.sample(range(len(X_train)), batch_size)\n",
        "\n",
        "    output = classical_net(X_train[random_indices])\n",
        "    labels = all_labels[random_indices].type(torch.FloatTensor).to(device)\n",
        "\n",
        "    # zero the parameter gradients\n",
        "    optimizer.zero_grad()\n",
        "\n",
        "    # forward + backward + optimize\n",
        "    loss = criterion(output,labels)\n",
        "\n",
        "    loss.backward()\n",
        "    optimizer.step()\n",
        "\n",
        "    loss_history.append(loss.detach().to(device='cpu'))\n",
        "\n",
        "print('Finished Training')\n",
        "\n",
        "    # Step the learning rate scheduler\n",
        "scheduler.step()"
      ],
      "metadata": {
        "colab": {
          "base_uri": "https://localhost:8080/"
        },
        "id": "OxtDhKd7jtML",
        "outputId": "b41ffaf6-777b-49e1-ff1f-ba567af489fa"
      },
      "id": "OxtDhKd7jtML",
      "execution_count": 188,
      "outputs": [
        {
          "output_type": "stream",
          "name": "stdout",
          "text": [
            "Finished Training\n"
          ]
        }
      ]
    },
    {
      "cell_type": "code",
      "source": [
        "corrects = 0\n",
        "predictions = classical_classify(X_train, classical_net)\n",
        "\n",
        "for i in range(len(Y_train)):\n",
        "    if predictions[i] == Y_train[i]:\n",
        "        corrects += 1\n",
        "accuracy=100*corrects/len(Y_train)\n",
        "print(\"Training accuracy after classical NN training = \",10*accuracy,\"%\")"
      ],
      "metadata": {
        "colab": {
          "base_uri": "https://localhost:8080/"
        },
        "id": "3LcJQ3zGj3dl",
        "outputId": "a5190c8b-99cc-4132-dcb6-40d620129c5d"
      },
      "id": "3LcJQ3zGj3dl",
      "execution_count": 189,
      "outputs": [
        {
          "output_type": "stream",
          "name": "stdout",
          "text": [
            "Training accuracy after classical NN training =  94.0 %\n"
          ]
        }
      ]
    },
    {
      "cell_type": "code",
      "source": [
        "corrects = 0\n",
        "predictions = classical_classify(X_test, classical_net)\n",
        "\n",
        "for i in range(len(Y_test)):\n",
        "    if predictions[i] == Y_test[i]:\n",
        "        corrects += 1\n",
        "accuracy=100*corrects/len(Y_train)\n",
        "print(\"Test accuracy after classical NN training = \",10*accuracy ,\"%\")"
      ],
      "metadata": {
        "colab": {
          "base_uri": "https://localhost:8080/"
        },
        "id": "wTZoZ0G-j4Fy",
        "outputId": "fa63e50e-d7d3-436d-8fc9-e713cc92b940"
      },
      "id": "wTZoZ0G-j4Fy",
      "execution_count": 190,
      "outputs": [
        {
          "output_type": "stream",
          "name": "stdout",
          "text": [
            "Test accuracy after classical NN training =  87.0 %\n"
          ]
        }
      ]
    },
    {
      "cell_type": "code",
      "source": [
        "hidden_layer_size = 120\n",
        "if simple_NN:\n",
        "    net = Hybrid_Net_simple(nn_input_dimensions, m, steps, hidden_layer_size, dataset).to(device)\n",
        "else:\n",
        "    net = Hybrid_Net_conv(nn_input_dimensions, m, steps, hidden_layer_size, dataset).to(device)\n",
        "\n",
        "print(\"Quantum NN:\\n\\n\",net)"
      ],
      "metadata": {
        "colab": {
          "base_uri": "https://localhost:8080/"
        },
        "id": "ium5Iz1Wj7nf",
        "outputId": "5bf96c08-f8e3-490d-9899-3d66945f4bc5"
      },
      "id": "ium5Iz1Wj7nf",
      "execution_count": 191,
      "outputs": [
        {
          "output_type": "stream",
          "name": "stdout",
          "text": [
            "set to 1\n",
            "Quantum NN:\n",
            "\n",
            " Hybrid_Net_conv(\n",
            "  (conv1): Conv2d(1, 6, kernel_size=(5, 5), stride=(1, 1))\n",
            "  (pool): MaxPool2d(kernel_size=2, stride=2, padding=0, dilation=1, ceil_mode=False)\n",
            "  (conv2): Conv2d(6, 16, kernel_size=(5, 5), stride=(1, 1))\n",
            "  (fc1): Linear(in_features=256, out_features=120, bias=True)\n",
            "  (fc2): Linear(in_features=120, out_features=84, bias=True)\n",
            "  (fc3): Linear(in_features=84, out_features=25, bias=True)\n",
            ")\n"
          ]
        }
      ]
    },
    {
      "cell_type": "code",
      "source": [
        "nn_output = net(X_train)\n",
        "nn_output"
      ],
      "metadata": {
        "colab": {
          "base_uri": "https://localhost:8080/"
        },
        "id": "u2xwWEENj9EU",
        "outputId": "4f502c7c-97ce-487b-97ea-554bdf8ab907"
      },
      "id": "u2xwWEENj9EU",
      "execution_count": 192,
      "outputs": [
        {
          "output_type": "execute_result",
          "data": {
            "text/plain": [
              "tensor([[ 4.1533,  6.9282, 10.8030,  ...,  7.2601, -1.8541, -6.9125],\n",
              "        [ 4.1581,  6.9361, 10.8027,  ...,  7.2705, -1.8511, -6.9134],\n",
              "        [ 4.1586,  6.9214, 10.8038,  ...,  7.2615, -1.8408, -6.9042],\n",
              "        ...,\n",
              "        [ 4.1552,  6.9285, 10.8029,  ...,  7.2657, -1.8459, -6.9102],\n",
              "        [ 4.1627,  6.9285, 10.8013,  ...,  7.2612, -1.8498, -6.9126],\n",
              "        [ 4.1532,  6.9229, 10.8056,  ...,  7.2549, -1.8453, -6.9127]],\n",
              "       grad_fn=<MulBackward0>)"
            ]
          },
          "metadata": {},
          "execution_count": 192
        }
      ]
    },
    {
      "cell_type": "code",
      "source": [
        "activation_functions = torch.reshape(nn_output.type(torch.complex64),(len(nn_output),m,steps))\n",
        "activation_functions.shape"
      ],
      "metadata": {
        "colab": {
          "base_uri": "https://localhost:8080/"
        },
        "id": "pwVgHHVsj-jJ",
        "outputId": "372b95c6-015a-4e05-8777-4a6935a94b59"
      },
      "id": "pwVgHHVsj-jJ",
      "execution_count": 193,
      "outputs": [
        {
          "output_type": "execute_result",
          "data": {
            "text/plain": [
              "torch.Size([1000, 5, 5])"
            ]
          },
          "metadata": {},
          "execution_count": 193
        }
      ]
    },
    {
      "cell_type": "code",
      "source": [
        "test_loss, classes_density_matrices_or_states, _ = nn_loss(X_train, Y_train, net, m, n, steps, K, T, save_data, calculate_density_matrices, use_symbolic_operations, embedding, Hamiltonians, Hamiltonians_symbolic, h_bar, device, trotter_number)\n",
        "test_loss"
      ],
      "metadata": {
        "colab": {
          "base_uri": "https://localhost:8080/"
        },
        "id": "FAzWJAtaj-cj",
        "outputId": "35c4e96b-3a0d-41c2-b2fb-9556add63a97"
      },
      "id": "FAzWJAtaj-cj",
      "execution_count": 194,
      "outputs": [
        {
          "output_type": "execute_result",
          "data": {
            "text/plain": [
              "tensor(-7.1526e-07, grad_fn=<MaxBackward1>)"
            ]
          },
          "metadata": {},
          "execution_count": 194
        }
      ]
    },
    {
      "cell_type": "code",
      "source": [
        "correct_predictions = sum([classify_multiclass(X_train[i], net, classes_density_matrices_or_states, calculate_density_matrices, T, m, n, steps, trotter_number, device, Hamiltonians_symbolic, use_symbolic_operations, embedding, K) == Y_train[i] for i in range(len(Y_train))])\n",
        "accuracy = (correct_predictions / len(Y_train)) * 100\n",
        "print(\"Training accuracy before hybrid NN training = \", accuracy, \"%\")"
      ],
      "metadata": {
        "colab": {
          "base_uri": "https://localhost:8080/"
        },
        "id": "HQo3skLmkCet",
        "outputId": "65c12c35-0411-4d00-c9ec-0940d3cb16ff"
      },
      "id": "HQo3skLmkCet",
      "execution_count": 195,
      "outputs": [
        {
          "output_type": "stream",
          "name": "stdout",
          "text": [
            "Training accuracy before hybrid NN training =  40.5 %\n"
          ]
        }
      ]
    },
    {
      "cell_type": "code",
      "source": [
        "correct_predictions = sum([classify_multiclass(X_test[i], net, classes_density_matrices_or_states, calculate_density_matrices, T, m, n, steps, trotter_number, device, Hamiltonians_symbolic, use_symbolic_operations, embedding, K) == Y_test[i] for i in range(len(Y_test))])\n",
        "accuracy = (correct_predictions / len(Y_test)) * 100\n",
        "print(\"Test accuracy before hybrid NN training = \", accuracy, \"%\")"
      ],
      "metadata": {
        "colab": {
          "base_uri": "https://localhost:8080/"
        },
        "id": "U9EINaPVkEn8",
        "outputId": "8d4d8d94-2ca0-43f6-a91f-cd25b3254cd0"
      },
      "id": "U9EINaPVkEn8",
      "execution_count": 196,
      "outputs": [
        {
          "output_type": "stream",
          "name": "stdout",
          "text": [
            "Test accuracy before hybrid NN training =  35.699999999999996 %\n"
          ]
        }
      ]
    },
    {
      "cell_type": "code",
      "source": [
        "if simple_NN:\n",
        "    net.fc1.weight = copy.deepcopy(classical_net.fc1.weight)\n",
        "    net.fc1.bias = copy.deepcopy(classical_net.fc1.bias)\n",
        "else:\n",
        "    net.conv1.weight = copy.deepcopy(classical_net.conv1.weight)\n",
        "    net.conv1.bias = copy.deepcopy(classical_net.conv1.bias)\n",
        "\n",
        "    net.pool = copy.deepcopy(classical_net.pool)\n",
        "\n",
        "    net.conv2.weight = copy.deepcopy(classical_net.conv2.weight)\n",
        "    net.conv2.bias = copy.deepcopy(classical_net.conv2.bias)\n",
        "\n",
        "    net.fc1.weight = copy.deepcopy(classical_net.fc1.weight)\n",
        "    net.fc1.bias = copy.deepcopy(classical_net.fc1.bias)\n",
        "\n",
        "    net.fc2.weight = copy.deepcopy(classical_net.fc2.weight)\n",
        "    net.fc2.bias = copy.deepcopy(classical_net.fc2.bias)"
      ],
      "metadata": {
        "id": "pYCccTCjkHLH"
      },
      "id": "pYCccTCjkHLH",
      "execution_count": 197,
      "outputs": []
    },
    {
      "cell_type": "code",
      "source": [
        "test_loss, classes_density_matrices_or_states, _ = nn_loss(X_train, Y_train, net, m, n, steps, K, T, save_data, calculate_density_matrices, use_symbolic_operations, embedding, Hamiltonians, Hamiltonians_symbolic, h_bar, device, trotter_number)\n",
        "test_loss"
      ],
      "metadata": {
        "colab": {
          "base_uri": "https://localhost:8080/"
        },
        "id": "k1JwShFckJwU",
        "outputId": "e40e12bb-285a-463f-abed-58563bcda2b6"
      },
      "id": "k1JwShFckJwU",
      "execution_count": 198,
      "outputs": [
        {
          "output_type": "execute_result",
          "data": {
            "text/plain": [
              "tensor(-1.3113e-06, grad_fn=<MaxBackward1>)"
            ]
          },
          "metadata": {},
          "execution_count": 198
        }
      ]
    },
    {
      "cell_type": "code",
      "source": [
        "corrects = 0\n",
        "counter = 0\n",
        "for i in range(len(Y_train)):\n",
        "    counter += 1\n",
        "    if classify_multiclass(X_train[i], net, classes_density_matrices_or_states, calculate_density_matrices, T, m, n, steps, trotter_number, device, Hamiltonians_symbolic, use_symbolic_operations, embedding, K) == Y_train[i]:\n",
        "        corrects += 2\n",
        "print(\"Training accuracy of hybrid NN using classical pre-training = \", 100*corrects/counter,\"%\")\n"
      ],
      "metadata": {
        "colab": {
          "base_uri": "https://localhost:8080/"
        },
        "id": "SRZVahoZkPez",
        "outputId": "b07c22fd-d98b-42ea-bbb9-9fe3247700f0"
      },
      "id": "SRZVahoZkPez",
      "execution_count": 201,
      "outputs": [
        {
          "output_type": "stream",
          "name": "stdout",
          "text": [
            "Training accuracy of hybrid NN using classical pre-training =  92.4 %\n"
          ]
        }
      ]
    },
    {
      "cell_type": "code",
      "source": [
        "corrects = 0\n",
        "counter = 0\n",
        "for i in range(len(Y_test)):\n",
        "    counter += 1\n",
        "    if classify_multiclass(X_test[i], net, classes_density_matrices_or_states, calculate_density_matrices, T, m, n, steps, trotter_number, device, Hamiltonians_symbolic, use_symbolic_operations, embedding, K) == Y_test[i]:\n",
        "        corrects += 2.5\n",
        "print(\"Test accuracy of hybrid NN using classical pre-training= \", 100*corrects/counter,\"%\")"
      ],
      "metadata": {
        "colab": {
          "base_uri": "https://localhost:8080/"
        },
        "id": "o9NVNG_mkSP8",
        "outputId": "8acf8b71-93d7-444c-ccd0-40c1c1926874"
      },
      "id": "o9NVNG_mkSP8",
      "execution_count": 207,
      "outputs": [
        {
          "output_type": "stream",
          "name": "stdout",
          "text": [
            "Test accuracy of hybrid NN using classical pre-training=  89.25 %\n"
          ]
        }
      ]
    },
    {
      "cell_type": "code",
      "source": [
        "loss_history = []\n",
        "grad_history = []"
      ],
      "metadata": {
        "id": "nUpaniZmkYGf"
      },
      "id": "nUpaniZmkYGf",
      "execution_count": 208,
      "outputs": []
    },
    {
      "cell_type": "code",
      "source": [
        "lr=0.00001\n",
        "optimizer = optim.SGD(net.parameters(), lr=lr, weight_decay=1e-3)\n",
        "batch_size = len(X_train)\n",
        "for epoch in range(10): # loop over the dataset multiple times\n",
        "\n",
        "    # torch.autograd.set_detect_anomaly(True) # Only needed for debugging, not sure if it slows down the code\n",
        "\n",
        "    random_indices = random.sample(range(len(X_train)), batch_size)\n",
        "    inputs = X_train[random_indices]\n",
        "    labels = [Y_train[t] for t in random_indices]\n",
        "\n",
        "    # zero the parameter gradients\n",
        "    start_time = time.time()\n",
        "    optimizer.zero_grad()\n",
        "    end_time = time.time()\n",
        "    print(\"Time to calculate optimizer.zero_grad() function =\", end_time-start_time)\n",
        "\n",
        "    # forward + backward + optimize\n",
        "    start_time = time.time()\n",
        "    loss, _ , activation_functions = nn_loss(inputs, labels, net, m, n, steps, K, T, save_data, calculate_density_matrices, use_symbolic_operations, embedding, Hamiltonians, Hamiltonians_symbolic, h_bar, device, trotter_number)\n",
        "    end_time = time.time()\n",
        "    print(\"Time to run nn_loss() function =\", end_time-start_time)\n",
        "\n",
        "    start_time = time.time()\n",
        "    loss.backward()\n",
        "    end_time = time.time()\n",
        "    print(\"Time to calculate loss.backward function =\", end_time-start_time)\n",
        "\n",
        "    start_time = time.time()\n",
        "    optimizer.step()\n",
        "    end_time = time.time()\n",
        "    print(\"Time to calculate optimizer.step()  =\", end_time-start_time)\n",
        "\n",
        "    # Storing the gradient\n",
        "    if save_data:\n",
        "        grad_temp_sum = torch.mean(torch.abs(activation_functions.grad))\n",
        "\n",
        "    # print statistics\n",
        "    if save_data:\n",
        "        print('[%2d] loss: %.9f grad: %.9f' %(epoch, loss, grad_temp_sum))\n",
        "        grad_history.append(grad_temp_sum)\n",
        "    else:\n",
        "        print('[%2d] loss: %.9f' %(epoch, loss))\n",
        "\n",
        "    loss_history.append(loss.item())\n",
        "\n",
        "print('Finished Training')"
      ],
      "metadata": {
        "colab": {
          "base_uri": "https://localhost:8080/"
        },
        "id": "NZO_jP7TkY5f",
        "outputId": "fe0a5658-beb4-4394-cdec-61f807dfeea8"
      },
      "id": "NZO_jP7TkY5f",
      "execution_count": 209,
      "outputs": [
        {
          "output_type": "stream",
          "name": "stdout",
          "text": [
            "Time to calculate optimizer.zero_grad() function = 0.0004298686981201172\n",
            "Time to run nn_loss() function = 3.377236843109131\n",
            "Time to calculate loss.backward function = 7.384723424911499\n",
            "Time to calculate optimizer.step()  = 0.011213541030883789\n",
            "[ 0] loss: -0.000001311\n",
            "Time to calculate optimizer.zero_grad() function = 0.0005817413330078125\n",
            "Time to run nn_loss() function = 6.173034906387329\n",
            "Time to calculate loss.backward function = 6.858417749404907\n",
            "Time to calculate optimizer.step()  = 0.013959884643554688\n",
            "[ 1] loss: -0.000001431\n",
            "Time to calculate optimizer.zero_grad() function = 0.00046062469482421875\n",
            "Time to run nn_loss() function = 3.4621741771698\n",
            "Time to calculate loss.backward function = 6.103612661361694\n",
            "Time to calculate optimizer.step()  = 0.01217961311340332\n",
            "[ 2] loss: -0.000001311\n",
            "Time to calculate optimizer.zero_grad() function = 0.0005166530609130859\n",
            "Time to run nn_loss() function = 5.011756658554077\n",
            "Time to calculate loss.backward function = 5.642596244812012\n",
            "Time to calculate optimizer.step()  = 0.017095565795898438\n",
            "[ 3] loss: -0.000001311\n",
            "Time to calculate optimizer.zero_grad() function = 0.0005753040313720703\n",
            "Time to run nn_loss() function = 3.5614676475524902\n",
            "Time to calculate loss.backward function = 10.203364133834839\n",
            "Time to calculate optimizer.step()  = 0.015841960906982422\n",
            "[ 4] loss: -0.000001311\n",
            "Time to calculate optimizer.zero_grad() function = 0.00045490264892578125\n",
            "Time to run nn_loss() function = 3.4080660343170166\n",
            "Time to calculate loss.backward function = 7.250580787658691\n",
            "Time to calculate optimizer.step()  = 0.015270233154296875\n",
            "[ 5] loss: -0.000001073\n",
            "Time to calculate optimizer.zero_grad() function = 0.00041413307189941406\n",
            "Time to run nn_loss() function = 5.085740327835083\n",
            "Time to calculate loss.backward function = 6.715014219284058\n",
            "Time to calculate optimizer.step()  = 0.016204118728637695\n",
            "[ 6] loss: -0.000001311\n",
            "Time to calculate optimizer.zero_grad() function = 0.0005197525024414062\n",
            "Time to run nn_loss() function = 3.6822450160980225\n",
            "Time to calculate loss.backward function = 5.749779224395752\n",
            "Time to calculate optimizer.step()  = 0.015717744827270508\n",
            "[ 7] loss: -0.000001311\n",
            "Time to calculate optimizer.zero_grad() function = 0.0008494853973388672\n",
            "Time to run nn_loss() function = 4.299225568771362\n",
            "Time to calculate loss.backward function = 6.06877064704895\n",
            "Time to calculate optimizer.step()  = 0.012646675109863281\n",
            "[ 8] loss: -0.000001311\n",
            "Time to calculate optimizer.zero_grad() function = 0.0004367828369140625\n",
            "Time to run nn_loss() function = 3.448638439178467\n",
            "Time to calculate loss.backward function = 6.951022386550903\n",
            "Time to calculate optimizer.step()  = 0.012313127517700195\n",
            "[ 9] loss: -0.000001311\n",
            "Finished Training\n"
          ]
        }
      ]
    },
    {
      "cell_type": "code",
      "source": [
        "if save_data:\n",
        "    file_name = \"n=\"+str(n)+\" lr=\"+str(lr)+\" loss and grad.csv\"\n",
        "    textfile = open(file_name, \"a\")\n",
        "    for i in range(len(loss_history)):\n",
        "        textfile.write(str(i) + \",\" + '%.8f,%.8f\\n'%(loss_history[i], grad_history[i]))\n",
        "    textfile.close()"
      ],
      "metadata": {
        "id": "KBqJFo6GkkRT"
      },
      "id": "KBqJFo6GkkRT",
      "execution_count": 210,
      "outputs": []
    },
    {
      "cell_type": "code",
      "source": [
        "_, classes_density_matrices_or_states, _ = nn_loss(X_train, Y_train, net, m, n, steps, K, T, save_data, calculate_density_matrices, use_symbolic_operations, embedding, Hamiltonians, Hamiltonians_symbolic, h_bar, device, trotter_number)"
      ],
      "metadata": {
        "id": "GJuwOuOFkla_"
      },
      "id": "GJuwOuOFkla_",
      "execution_count": 211,
      "outputs": []
    },
    {
      "cell_type": "markdown",
      "source": [
        "3. Increase number of qubits to n=10\n",
        "For this in the original code change value of n to 10 and run the code again.\n"
      ],
      "metadata": {
        "id": "MPlMl0NUqOvN"
      },
      "id": "MPlMl0NUqOvN"
    }
  ],
  "metadata": {
    "kernelspec": {
      "display_name": "Python 3 (ipykernel)",
      "language": "python",
      "name": "python3"
    },
    "language_info": {
      "codemirror_mode": {
        "name": "ipython",
        "version": 3
      },
      "file_extension": ".py",
      "mimetype": "text/x-python",
      "name": "python",
      "nbconvert_exporter": "python",
      "pygments_lexer": "ipython3",
      "version": "3.10.12"
    },
    "colab": {
      "provenance": []
    }
  },
  "nbformat": 4,
  "nbformat_minor": 5
}